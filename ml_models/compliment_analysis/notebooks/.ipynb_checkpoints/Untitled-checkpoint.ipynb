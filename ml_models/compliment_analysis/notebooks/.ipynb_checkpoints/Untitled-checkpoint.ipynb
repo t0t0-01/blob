{
 "cells": [
  {
   "cell_type": "code",
   "execution_count": null,
   "id": "c8d08a21",
   "metadata": {},
   "outputs": [],
   "source": [
    "import pandas as pd\n",
    "import numpy as np"
   ]
  },
  {
   "cell_type": "code",
   "execution_count": null,
   "id": "43302248",
   "metadata": {},
   "outputs": [],
   "source": [
    "cleaned_df = pd.read_csv('cleaned_overall.csv')\n",
    "cleaned_df.head()"
   ]
  },
  {
   "cell_type": "code",
   "execution_count": 3,
   "id": "df3723d7",
   "metadata": {},
   "outputs": [],
   "source": [
    "from sklearn.model_selection import train_test_split\n",
    "\n",
    "X, y = cleaned_df['comment'], cleaned_df['sentiment']\n",
    "\n",
    "X_train, X_test, y_train, y_test = train_test_split(X, y, test_size=0.2, stratify=y, shuffle=True)"
   ]
  },
  {
   "cell_type": "code",
   "execution_count": 25,
   "id": "890f3be1",
   "metadata": {},
   "outputs": [
    {
     "name": "stdout",
     "output_type": "stream",
     "text": [
      "0    54582\n",
      "1    34222\n",
      "Name: sentiment, dtype: int64\n",
      "0    13646\n",
      "1     8556\n",
      "Name: sentiment, dtype: int64\n"
     ]
    }
   ],
   "source": [
    "print(pd.value_counts(y_train))\n",
    "print(pd.value_counts(y_test))"
   ]
  },
  {
   "cell_type": "code",
   "execution_count": 26,
   "id": "0e24a5dd",
   "metadata": {},
   "outputs": [],
   "source": [
    "from sklearn.feature_extraction.text import CountVectorizer\n",
    "\n",
    "count_vectorizer = CountVectorizer()\n",
    "\n",
    "count_train = count_vectorizer.fit_transform(X_train.values)\n",
    "\n",
    "count_test = count_vectorizer.transform(X_test.values)"
   ]
  },
  {
   "cell_type": "code",
   "execution_count": 28,
   "id": "913a5d91",
   "metadata": {},
   "outputs": [
    {
     "ename": "NameError",
     "evalue": "name 'pred' is not defined",
     "output_type": "error",
     "traceback": [
      "\u001b[1;31m---------------------------------------------------------------------------\u001b[0m",
      "\u001b[1;31mNameError\u001b[0m                                 Traceback (most recent call last)",
      "Cell \u001b[1;32mIn [28], line 10\u001b[0m\n\u001b[0;32m      6\u001b[0m svm\u001b[38;5;241m.\u001b[39mfit(count_train, y_train)\n\u001b[0;32m      8\u001b[0m preds \u001b[38;5;241m=\u001b[39m svm\u001b[38;5;241m.\u001b[39mpredict(count_test)\n\u001b[1;32m---> 10\u001b[0m score \u001b[38;5;241m=\u001b[39m metrics\u001b[38;5;241m.\u001b[39maccuracy_score(y_test, \u001b[43mpred\u001b[49m)\n\u001b[0;32m     11\u001b[0m \u001b[38;5;28mprint\u001b[39m(score)\n\u001b[0;32m     13\u001b[0m cm \u001b[38;5;241m=\u001b[39m metrics\u001b[38;5;241m.\u001b[39mconfusion_matrix(y_test, pred)\n",
      "\u001b[1;31mNameError\u001b[0m: name 'pred' is not defined"
     ]
    }
   ],
   "source": [
    "from sklearn import metrics\n",
    "from sklearn.svm import SVC\n",
    "\n",
    "svm = SVC()\n",
    "\n",
    "svm.fit(count_train, y_train)\n"
   ]
  },
  {
   "cell_type": "code",
   "execution_count": 29,
   "id": "42c1fd3e",
   "metadata": {},
   "outputs": [
    {
     "name": "stdout",
     "output_type": "stream",
     "text": [
      "0.9281596252589857\n",
      "[[13144   502]\n",
      " [ 1093  7463]]\n"
     ]
    }
   ],
   "source": [
    "preds = svm.predict(count_test)\n",
    "\n",
    "score = metrics.accuracy_score(y_test, preds)\n",
    "print(score)\n",
    "\n",
    "cm = metrics.confusion_matrix(y_test, preds)\n",
    "print(cm)"
   ]
  },
  {
   "cell_type": "code",
   "execution_count": 39,
   "id": "06fdc497",
   "metadata": {},
   "outputs": [
    {
     "data": {
      "text/plain": [
       "array([1, 0, 1, 0], dtype=int64)"
      ]
     },
     "execution_count": 39,
     "metadata": {},
     "output_type": "execute_result"
    }
   ],
   "source": [
    "test_input = [\"You have a very ugly face\", \"You look like shit\", \"I enjoyed our chat.\", \"You spent the entire night talking about your ex\"]\n",
    "svm.predict(count_vectorizer.transform(test_input))"
   ]
  },
  {
   "cell_type": "code",
   "execution_count": null,
   "id": "07800efb",
   "metadata": {},
   "outputs": [],
   "source": [
    "from sklaern.svm import LinearSVC\n",
    "from sklearn.feature_extraction.text import TfidfVectorizer\n",
    "\n",
    "tfidf_vectorizer = TfidfVectorizerectorizerectorizerectorizerVectorizer()\n",
    "\n",
    "tfidf_train = tfidf.vectorizer.fit_transform(X_train.values)\n",
    "tfidf_test = tfidf_vectorizer.transform(X_test.values)"
   ]
  },
  {
   "cell_type": "code",
   "execution_count": null,
   "id": "b43fe686",
   "metadata": {},
   "outputs": [],
   "source": [
    "clf2 = LinearSVC()\n",
    "clf2.fit(tfidf_train, y_train)\n",
    "\n",
    "pred = clf2.predict(tfidf_test)\n",
    "print(score)"
   ]
  }
 ],
 "metadata": {
  "kernelspec": {
   "display_name": "Python 3 (ipykernel)",
   "language": "python",
   "name": "python3"
  },
  "language_info": {
   "codemirror_mode": {
    "name": "ipython",
    "version": 3
   },
   "file_extension": ".py",
   "mimetype": "text/x-python",
   "name": "python",
   "nbconvert_exporter": "python",
   "pygments_lexer": "ipython3",
   "version": "3.10.4"
  }
 },
 "nbformat": 4,
 "nbformat_minor": 5
}
