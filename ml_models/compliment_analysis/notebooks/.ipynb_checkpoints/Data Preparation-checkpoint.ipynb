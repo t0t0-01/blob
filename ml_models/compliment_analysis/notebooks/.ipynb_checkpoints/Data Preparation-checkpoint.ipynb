{
 "cells": [
  {
   "cell_type": "code",
   "execution_count": 1,
   "id": "0d60f670",
   "metadata": {},
   "outputs": [],
   "source": [
    "import pandas as pd\n",
    "import numpy as np"
   ]
  },
  {
   "cell_type": "code",
   "execution_count": 135,
   "id": "f5bcf12a",
   "metadata": {},
   "outputs": [],
   "source": [
    "free_compliments_df = pd.read_csv('FreeCompliments-filtered.csv', sep='\\t', na_values='[]', names=['Thread', 'Username', 'code', 'id', 'something', 'comment', 'attribute_1', 'attribute_2'])"
   ]
  },
  {
   "cell_type": "code",
   "execution_count": 136,
   "id": "98563125",
   "metadata": {},
   "outputs": [
    {
     "data": {
      "text/html": [
       "<div>\n",
       "<style scoped>\n",
       "    .dataframe tbody tr th:only-of-type {\n",
       "        vertical-align: middle;\n",
       "    }\n",
       "\n",
       "    .dataframe tbody tr th {\n",
       "        vertical-align: top;\n",
       "    }\n",
       "\n",
       "    .dataframe thead th {\n",
       "        text-align: right;\n",
       "    }\n",
       "</style>\n",
       "<table border=\"1\" class=\"dataframe\">\n",
       "  <thead>\n",
       "    <tr style=\"text-align: right;\">\n",
       "      <th></th>\n",
       "      <th>Thread</th>\n",
       "      <th>Username</th>\n",
       "      <th>code</th>\n",
       "      <th>id</th>\n",
       "      <th>something</th>\n",
       "      <th>comment</th>\n",
       "      <th>attribute_1</th>\n",
       "      <th>attribute_2</th>\n",
       "    </tr>\n",
       "  </thead>\n",
       "  <tbody>\n",
       "    <tr>\n",
       "      <th>0</th>\n",
       "      <td>FreeCompliments</td>\n",
       "      <td>Golden161</td>\n",
       "      <td>cao8gsf</td>\n",
       "      <td>1371938253</td>\n",
       "      <td>3</td>\n",
       "      <td>Stay away from people who can't put themselves...</td>\n",
       "      <td>['shoe']</td>\n",
       "      <td>['shoe']</td>\n",
       "    </tr>\n",
       "    <tr>\n",
       "      <th>1</th>\n",
       "      <td>FreeCompliments</td>\n",
       "      <td>beebeedoom</td>\n",
       "      <td>caoa1we</td>\n",
       "      <td>1371943954</td>\n",
       "      <td>3</td>\n",
       "      <td>If the answer is no, then you accept the hand ...</td>\n",
       "      <td>['hand']</td>\n",
       "      <td>['hand']</td>\n",
       "    </tr>\n",
       "    <tr>\n",
       "      <th>2</th>\n",
       "      <td>FreeCompliments</td>\n",
       "      <td>[deleted]</td>\n",
       "      <td>caoeg34</td>\n",
       "      <td>1371959999</td>\n",
       "      <td>3</td>\n",
       "      <td>I know you have it in you to face your current...</td>\n",
       "      <td>['head', 'face']</td>\n",
       "      <td>['head', 'face']</td>\n",
       "    </tr>\n",
       "    <tr>\n",
       "      <th>3</th>\n",
       "      <td>FreeCompliments</td>\n",
       "      <td>Orions_End</td>\n",
       "      <td>chplg8k</td>\n",
       "      <td>1400883120</td>\n",
       "      <td>3</td>\n",
       "      <td>You serve our kind with great honor.</td>\n",
       "      <td>['kind']</td>\n",
       "      <td>NaN</td>\n",
       "    </tr>\n",
       "    <tr>\n",
       "      <th>4</th>\n",
       "      <td>FreeCompliments</td>\n",
       "      <td>HAAAANS</td>\n",
       "      <td>chqivqk</td>\n",
       "      <td>1400995411</td>\n",
       "      <td>4</td>\n",
       "      <td>That's your foot hold to climb the fucking mou...</td>\n",
       "      <td>['foot']</td>\n",
       "      <td>['foot']</td>\n",
       "    </tr>\n",
       "  </tbody>\n",
       "</table>\n",
       "</div>"
      ],
      "text/plain": [
       "            Thread    Username     code          id  something  \\\n",
       "0  FreeCompliments   Golden161  cao8gsf  1371938253          3   \n",
       "1  FreeCompliments  beebeedoom  caoa1we  1371943954          3   \n",
       "2  FreeCompliments   [deleted]  caoeg34  1371959999          3   \n",
       "3  FreeCompliments  Orions_End  chplg8k  1400883120          3   \n",
       "4  FreeCompliments     HAAAANS  chqivqk  1400995411          4   \n",
       "\n",
       "                                             comment       attribute_1  \\\n",
       "0  Stay away from people who can't put themselves...          ['shoe']   \n",
       "1  If the answer is no, then you accept the hand ...          ['hand']   \n",
       "2  I know you have it in you to face your current...  ['head', 'face']   \n",
       "3               You serve our kind with great honor.          ['kind']   \n",
       "4  That's your foot hold to climb the fucking mou...          ['foot']   \n",
       "\n",
       "        attribute_2  \n",
       "0          ['shoe']  \n",
       "1          ['hand']  \n",
       "2  ['head', 'face']  \n",
       "3               NaN  \n",
       "4          ['foot']  "
      ]
     },
     "execution_count": 136,
     "metadata": {},
     "output_type": "execute_result"
    }
   ],
   "source": [
    "free_compliments_df.head()"
   ]
  },
  {
   "cell_type": "code",
   "execution_count": 25,
   "id": "be49bdd6",
   "metadata": {},
   "outputs": [
    {
     "name": "stdout",
     "output_type": "stream",
     "text": [
      "Comment #0: Your eyebrows are on fleek!!\n",
      "Comment #1: Add to that, your bone structure is amazing!\n",
      "Comment #2: You may have rough weeks, but that sweet smile of yours can cheer anyone up\n",
      "Comment #3: Your hair is perfect.\n",
      "Comment #4: You have a sweet face too.\n",
      "Comment #5: So many people would give an arm to have your hair!\n",
      "Comment #6: I look forward to reading your book...this is for a jacket liner, right?\n",
      "Comment #7: Keep smiling, as much as you can.\n",
      "Comment #8: Your legs look super in shape!\n",
      "Comment #9: Hot;) Your inbox is probably full of dicks right now\n",
      "Comment #10: I like your intelligent eyes.\n",
      "Comment #11: I love your hair!!!!\n",
      "Comment #12: If you lost some weight in your face, you would easily slay.\n",
      "Comment #13: You have very beautiful eyes.\n",
      "Comment #14: Keep your head up!\n"
     ]
    }
   ],
   "source": [
    "indices = np.random.randint(0, len(free_compliments_df), size=15)\n",
    "\n",
    "for pos, text in enumerate(free_compliments_df['comment'].iloc[indices]):\n",
    "    print(f\"Comment #{pos}: {text}\")"
   ]
  },
  {
   "cell_type": "markdown",
   "id": "aef321fb",
   "metadata": {},
   "source": [
    "What we need to do here is to split the two attributes columns, check which are duplicates, remove the duplicates, then combine them back"
   ]
  },
  {
   "cell_type": "code",
   "execution_count": 26,
   "id": "58bff5d1",
   "metadata": {},
   "outputs": [
    {
     "name": "stdout",
     "output_type": "stream",
     "text": [
      "['smile']                           2406\n",
      "['hair']                            2238\n",
      "['eye']                             2187\n",
      "[]                                  1273\n",
      "['face']                            1113\n",
      "                                    ... \n",
      "['soul', 'head']                       1\n",
      "['shoulder', 'eye', 'hair']            1\n",
      "['eyebrow', 'complexion', 'eye']       1\n",
      "['makeup', 'lip', 'eye', 'face']       1\n",
      "['smile', 'dimple', 'hair']            1\n",
      "Name: attribute_1, Length: 856, dtype: int64\n",
      "[]                                2713\n",
      "['smile']                         2543\n",
      "['eye']                           2312\n",
      "['hair']                          2301\n",
      "['face']                          1162\n",
      "                                  ... \n",
      "['makeup', 'weight']                 1\n",
      "['makeup', 'head', 'eye']            1\n",
      "['hand', 'beard', 'head']            1\n",
      "['eyebrow', 'haircut', 'hair']       1\n",
      "['jawline', 'cheek']                 1\n",
      "Name: attribute_2, Length: 603, dtype: int64\n"
     ]
    }
   ],
   "source": [
    "print(free_compliments_df['attribute_1'].value_counts())\n",
    "print(free_compliments_df['attribute_2'].value_counts())"
   ]
  },
  {
   "cell_type": "code",
   "execution_count": 27,
   "id": "39366afd",
   "metadata": {},
   "outputs": [
    {
     "name": "stdout",
     "output_type": "stream",
     "text": [
      "19272\n"
     ]
    }
   ],
   "source": [
    "print(len(free_compliments_df))"
   ]
  },
  {
   "cell_type": "code",
   "execution_count": 138,
   "id": "25c628e4",
   "metadata": {},
   "outputs": [
    {
     "data": {
      "text/html": [
       "<div>\n",
       "<style scoped>\n",
       "    .dataframe tbody tr th:only-of-type {\n",
       "        vertical-align: middle;\n",
       "    }\n",
       "\n",
       "    .dataframe tbody tr th {\n",
       "        vertical-align: top;\n",
       "    }\n",
       "\n",
       "    .dataframe thead th {\n",
       "        text-align: right;\n",
       "    }\n",
       "</style>\n",
       "<table border=\"1\" class=\"dataframe\">\n",
       "  <thead>\n",
       "    <tr style=\"text-align: right;\">\n",
       "      <th></th>\n",
       "      <th>Thread</th>\n",
       "      <th>Username</th>\n",
       "      <th>code</th>\n",
       "      <th>id</th>\n",
       "      <th>something</th>\n",
       "      <th>comment</th>\n",
       "      <th>attribute_1</th>\n",
       "      <th>attribute_2</th>\n",
       "    </tr>\n",
       "  </thead>\n",
       "  <tbody>\n",
       "    <tr>\n",
       "      <th>0</th>\n",
       "      <td>toastme</td>\n",
       "      <td>WizardSleeves118</td>\n",
       "      <td>cuxedha</td>\n",
       "      <td>1441932754</td>\n",
       "      <td>8</td>\n",
       "      <td>What the mind just in a glance interprets as y...</td>\n",
       "      <td>['heart', 'soul']</td>\n",
       "      <td>NaN</td>\n",
       "    </tr>\n",
       "    <tr>\n",
       "      <th>1</th>\n",
       "      <td>toastme</td>\n",
       "      <td>WizardSleeves118</td>\n",
       "      <td>cuxedha</td>\n",
       "      <td>1441932754</td>\n",
       "      <td>8</td>\n",
       "      <td>Your pure enjoyment of life and of others' hap...</td>\n",
       "      <td>['happiness']</td>\n",
       "      <td>NaN</td>\n",
       "    </tr>\n",
       "    <tr>\n",
       "      <th>2</th>\n",
       "      <td>toastme</td>\n",
       "      <td>WizardSleeves118</td>\n",
       "      <td>cuyolzv</td>\n",
       "      <td>1442029607</td>\n",
       "      <td>4</td>\n",
       "      <td>I love your hair and your smile, and you would...</td>\n",
       "      <td>['smile', 'hair', 'dress']</td>\n",
       "      <td>['smile', 'hair']</td>\n",
       "    </tr>\n",
       "    <tr>\n",
       "      <th>3</th>\n",
       "      <td>toastme</td>\n",
       "      <td>WizardSleeves118</td>\n",
       "      <td>cv3xaw5</td>\n",
       "      <td>1442436332</td>\n",
       "      <td>6</td>\n",
       "      <td>I think I feel this way because you look like ...</td>\n",
       "      <td>['kind']</td>\n",
       "      <td>NaN</td>\n",
       "    </tr>\n",
       "    <tr>\n",
       "      <th>4</th>\n",
       "      <td>toastme</td>\n",
       "      <td>wumikomiko</td>\n",
       "      <td>cv45y5x</td>\n",
       "      <td>1442450547</td>\n",
       "      <td>3</td>\n",
       "      <td>The sheer orgasmic force from your pictures sh...</td>\n",
       "      <td>['soul']</td>\n",
       "      <td>NaN</td>\n",
       "    </tr>\n",
       "  </tbody>\n",
       "</table>\n",
       "</div>"
      ],
      "text/plain": [
       "    Thread          Username     code          id  something  \\\n",
       "0  toastme  WizardSleeves118  cuxedha  1441932754          8   \n",
       "1  toastme  WizardSleeves118  cuxedha  1441932754          8   \n",
       "2  toastme  WizardSleeves118  cuyolzv  1442029607          4   \n",
       "3  toastme  WizardSleeves118  cv3xaw5  1442436332          6   \n",
       "4  toastme        wumikomiko  cv45y5x  1442450547          3   \n",
       "\n",
       "                                             comment  \\\n",
       "0  What the mind just in a glance interprets as y...   \n",
       "1  Your pure enjoyment of life and of others' hap...   \n",
       "2  I love your hair and your smile, and you would...   \n",
       "3  I think I feel this way because you look like ...   \n",
       "4  The sheer orgasmic force from your pictures sh...   \n",
       "\n",
       "                  attribute_1        attribute_2  \n",
       "0           ['heart', 'soul']                NaN  \n",
       "1               ['happiness']                NaN  \n",
       "2  ['smile', 'hair', 'dress']  ['smile', 'hair']  \n",
       "3                    ['kind']                NaN  \n",
       "4                    ['soul']                NaN  "
      ]
     },
     "execution_count": 138,
     "metadata": {},
     "output_type": "execute_result"
    }
   ],
   "source": [
    "toast_me_df = pd.read_csv('ToastMe-filtered.csv', sep='\\t', na_values='[]', names=['Thread', 'Username', 'code', 'id', 'something', 'comment', 'attribute_1', 'attribute_2'])\n",
    "toast_me_df.head()"
   ]
  },
  {
   "cell_type": "code",
   "execution_count": 21,
   "id": "d3d524c7",
   "metadata": {},
   "outputs": [
    {
     "data": {
      "text/plain": [
       "23506"
      ]
     },
     "execution_count": 21,
     "metadata": {},
     "output_type": "execute_result"
    }
   ],
   "source": [
    "len(toast_me_df)"
   ]
  },
  {
   "cell_type": "code",
   "execution_count": 139,
   "id": "bbb41b5d",
   "metadata": {},
   "outputs": [
    {
     "data": {
      "text/html": [
       "<div>\n",
       "<style scoped>\n",
       "    .dataframe tbody tr th:only-of-type {\n",
       "        vertical-align: middle;\n",
       "    }\n",
       "\n",
       "    .dataframe tbody tr th {\n",
       "        vertical-align: top;\n",
       "    }\n",
       "\n",
       "    .dataframe thead th {\n",
       "        text-align: right;\n",
       "    }\n",
       "</style>\n",
       "<table border=\"1\" class=\"dataframe\">\n",
       "  <thead>\n",
       "    <tr style=\"text-align: right;\">\n",
       "      <th></th>\n",
       "      <th>Thread</th>\n",
       "      <th>Username</th>\n",
       "      <th>code</th>\n",
       "      <th>id</th>\n",
       "      <th>something</th>\n",
       "      <th>comment</th>\n",
       "      <th>attribute_1</th>\n",
       "      <th>attribute_2</th>\n",
       "    </tr>\n",
       "  </thead>\n",
       "  <tbody>\n",
       "    <tr>\n",
       "      <th>0</th>\n",
       "      <td>RoastMe</td>\n",
       "      <td>Tyoko</td>\n",
       "      <td>cqlbxex</td>\n",
       "      <td>1429741144</td>\n",
       "      <td>3</td>\n",
       "      <td>It looks like someone burnt the left side of y...</td>\n",
       "      <td>['hair']</td>\n",
       "      <td>['hair']</td>\n",
       "    </tr>\n",
       "    <tr>\n",
       "      <th>1</th>\n",
       "      <td>RoastMe</td>\n",
       "      <td>SwagmasterEDP</td>\n",
       "      <td>cqlco3n</td>\n",
       "      <td>1429742402</td>\n",
       "      <td>5</td>\n",
       "      <td>you look like the kind of guy who would make a...</td>\n",
       "      <td>['kind']</td>\n",
       "      <td>NaN</td>\n",
       "    </tr>\n",
       "    <tr>\n",
       "      <th>2</th>\n",
       "      <td>RoastMe</td>\n",
       "      <td>lolwtface</td>\n",
       "      <td>cspe48j</td>\n",
       "      <td>1435800657</td>\n",
       "      <td>86</td>\n",
       "      <td>You need to switch adjectives between your bod...</td>\n",
       "      <td>['hair']</td>\n",
       "      <td>['hair', 'body']</td>\n",
       "    </tr>\n",
       "    <tr>\n",
       "      <th>3</th>\n",
       "      <td>RoastMe</td>\n",
       "      <td>lolwtface</td>\n",
       "      <td>cspe6c0</td>\n",
       "      <td>1435800769</td>\n",
       "      <td>347</td>\n",
       "      <td>You look like you got paid to hold a dudes loa...</td>\n",
       "      <td>NaN</td>\n",
       "      <td>['mouth']</td>\n",
       "    </tr>\n",
       "    <tr>\n",
       "      <th>4</th>\n",
       "      <td>RoastMe</td>\n",
       "      <td>lolwtface</td>\n",
       "      <td>cspe92u</td>\n",
       "      <td>1435800909</td>\n",
       "      <td>35</td>\n",
       "      <td>Your face has more topography than the wall.</td>\n",
       "      <td>['face']</td>\n",
       "      <td>['face']</td>\n",
       "    </tr>\n",
       "  </tbody>\n",
       "</table>\n",
       "</div>"
      ],
      "text/plain": [
       "    Thread       Username     code          id  something  \\\n",
       "0  RoastMe          Tyoko  cqlbxex  1429741144          3   \n",
       "1  RoastMe  SwagmasterEDP  cqlco3n  1429742402          5   \n",
       "2  RoastMe      lolwtface  cspe48j  1435800657         86   \n",
       "3  RoastMe      lolwtface  cspe6c0  1435800769        347   \n",
       "4  RoastMe      lolwtface  cspe92u  1435800909         35   \n",
       "\n",
       "                                             comment attribute_1  \\\n",
       "0  It looks like someone burnt the left side of y...    ['hair']   \n",
       "1  you look like the kind of guy who would make a...    ['kind']   \n",
       "2  You need to switch adjectives between your bod...    ['hair']   \n",
       "3  You look like you got paid to hold a dudes loa...         NaN   \n",
       "4       Your face has more topography than the wall.    ['face']   \n",
       "\n",
       "        attribute_2  \n",
       "0          ['hair']  \n",
       "1               NaN  \n",
       "2  ['hair', 'body']  \n",
       "3         ['mouth']  \n",
       "4          ['face']  "
      ]
     },
     "execution_count": 139,
     "metadata": {},
     "output_type": "execute_result"
    }
   ],
   "source": [
    "roast_me_df = pd.read_csv('RoastMe-filtered.csv', sep='\\t', na_values='[]', names=['Thread', 'Username', 'code', 'id', 'something', 'comment', 'attribute_1', 'attribute_2'])\n",
    "roast_me_df.head()"
   ]
  },
  {
   "cell_type": "code",
   "execution_count": 140,
   "id": "d06871aa",
   "metadata": {},
   "outputs": [
    {
     "name": "stdout",
     "output_type": "stream",
     "text": [
      "Total number of data: 111006\n",
      "            Thread    Username     code          id  something  \\\n",
      "0  FreeCompliments   Golden161  cao8gsf  1371938253          3   \n",
      "1  FreeCompliments  beebeedoom  caoa1we  1371943954          3   \n",
      "2  FreeCompliments   [deleted]  caoeg34  1371959999          3   \n",
      "3  FreeCompliments  Orions_End  chplg8k  1400883120          3   \n",
      "4  FreeCompliments     HAAAANS  chqivqk  1400995411          4   \n",
      "\n",
      "                                             comment       attribute_1  \\\n",
      "0  Stay away from people who can't put themselves...          ['shoe']   \n",
      "1  If the answer is no, then you accept the hand ...          ['hand']   \n",
      "2  I know you have it in you to face your current...  ['head', 'face']   \n",
      "3               You serve our kind with great honor.          ['kind']   \n",
      "4  That's your foot hold to climb the fucking mou...          ['foot']   \n",
      "\n",
      "        attribute_2  \n",
      "0          ['shoe']  \n",
      "1          ['hand']  \n",
      "2  ['head', 'face']  \n",
      "3               NaN  \n",
      "4          ['foot']  \n"
     ]
    }
   ],
   "source": [
    "overall_df = pd.concat([free_compliments_df, toast_me_df, roast_me_df], axis=0)\n",
    "\n",
    "print(f\"Total number of data: {len(overall_df)}\")\n",
    "print(overall_df.head())"
   ]
  },
  {
   "cell_type": "markdown",
   "id": "eced1713",
   "metadata": {},
   "source": [
    "Let's add a column 0, 1 where 1 is for compliment and 0 is for insult"
   ]
  },
  {
   "cell_type": "code",
   "execution_count": 141,
   "id": "da428a85",
   "metadata": {},
   "outputs": [
    {
     "data": {
      "text/plain": [
       "RoastMe            68228\n",
       "toastme            23506\n",
       "FreeCompliments    19272\n",
       "Name: Thread, dtype: int64"
      ]
     },
     "execution_count": 141,
     "metadata": {},
     "output_type": "execute_result"
    }
   ],
   "source": [
    "overall_df['Thread'].value_counts()"
   ]
  },
  {
   "cell_type": "markdown",
   "id": "05b9799c",
   "metadata": {},
   "source": [
    "We can see that the dataset is skewed towards insults more so than towards compliments"
   ]
  },
  {
   "cell_type": "code",
   "execution_count": 142,
   "id": "8244a8fc",
   "metadata": {},
   "outputs": [],
   "source": [
    "overall_df['sentiment'] = overall_df['Thread'].apply(lambda x: 0 if x == 'RoastMe' else 1)"
   ]
  },
  {
   "cell_type": "code",
   "execution_count": 143,
   "id": "377e3d4b",
   "metadata": {},
   "outputs": [
    {
     "data": {
      "text/plain": [
       "0    68228\n",
       "1    42778\n",
       "Name: sentiment, dtype: int64"
      ]
     },
     "execution_count": 143,
     "metadata": {},
     "output_type": "execute_result"
    }
   ],
   "source": [
    "overall_df['sentiment'].value_counts()"
   ]
  },
  {
   "cell_type": "markdown",
   "id": "dab9cc0c",
   "metadata": {},
   "source": [
    "Let's drop the code, id, and something columns"
   ]
  },
  {
   "cell_type": "code",
   "execution_count": 144,
   "id": "16e7109c",
   "metadata": {},
   "outputs": [
    {
     "data": {
      "text/html": [
       "<div>\n",
       "<style scoped>\n",
       "    .dataframe tbody tr th:only-of-type {\n",
       "        vertical-align: middle;\n",
       "    }\n",
       "\n",
       "    .dataframe tbody tr th {\n",
       "        vertical-align: top;\n",
       "    }\n",
       "\n",
       "    .dataframe thead th {\n",
       "        text-align: right;\n",
       "    }\n",
       "</style>\n",
       "<table border=\"1\" class=\"dataframe\">\n",
       "  <thead>\n",
       "    <tr style=\"text-align: right;\">\n",
       "      <th></th>\n",
       "      <th>Thread</th>\n",
       "      <th>Username</th>\n",
       "      <th>comment</th>\n",
       "      <th>attribute_1</th>\n",
       "      <th>attribute_2</th>\n",
       "      <th>sentiment</th>\n",
       "    </tr>\n",
       "  </thead>\n",
       "  <tbody>\n",
       "    <tr>\n",
       "      <th>0</th>\n",
       "      <td>FreeCompliments</td>\n",
       "      <td>Golden161</td>\n",
       "      <td>Stay away from people who can't put themselves...</td>\n",
       "      <td>['shoe']</td>\n",
       "      <td>['shoe']</td>\n",
       "      <td>1</td>\n",
       "    </tr>\n",
       "    <tr>\n",
       "      <th>1</th>\n",
       "      <td>FreeCompliments</td>\n",
       "      <td>beebeedoom</td>\n",
       "      <td>If the answer is no, then you accept the hand ...</td>\n",
       "      <td>['hand']</td>\n",
       "      <td>['hand']</td>\n",
       "      <td>1</td>\n",
       "    </tr>\n",
       "    <tr>\n",
       "      <th>2</th>\n",
       "      <td>FreeCompliments</td>\n",
       "      <td>[deleted]</td>\n",
       "      <td>I know you have it in you to face your current...</td>\n",
       "      <td>['head', 'face']</td>\n",
       "      <td>['head', 'face']</td>\n",
       "      <td>1</td>\n",
       "    </tr>\n",
       "    <tr>\n",
       "      <th>3</th>\n",
       "      <td>FreeCompliments</td>\n",
       "      <td>Orions_End</td>\n",
       "      <td>You serve our kind with great honor.</td>\n",
       "      <td>['kind']</td>\n",
       "      <td>NaN</td>\n",
       "      <td>1</td>\n",
       "    </tr>\n",
       "    <tr>\n",
       "      <th>4</th>\n",
       "      <td>FreeCompliments</td>\n",
       "      <td>HAAAANS</td>\n",
       "      <td>That's your foot hold to climb the fucking mou...</td>\n",
       "      <td>['foot']</td>\n",
       "      <td>['foot']</td>\n",
       "      <td>1</td>\n",
       "    </tr>\n",
       "  </tbody>\n",
       "</table>\n",
       "</div>"
      ],
      "text/plain": [
       "            Thread    Username  \\\n",
       "0  FreeCompliments   Golden161   \n",
       "1  FreeCompliments  beebeedoom   \n",
       "2  FreeCompliments   [deleted]   \n",
       "3  FreeCompliments  Orions_End   \n",
       "4  FreeCompliments     HAAAANS   \n",
       "\n",
       "                                             comment       attribute_1  \\\n",
       "0  Stay away from people who can't put themselves...          ['shoe']   \n",
       "1  If the answer is no, then you accept the hand ...          ['hand']   \n",
       "2  I know you have it in you to face your current...  ['head', 'face']   \n",
       "3               You serve our kind with great honor.          ['kind']   \n",
       "4  That's your foot hold to climb the fucking mou...          ['foot']   \n",
       "\n",
       "        attribute_2  sentiment  \n",
       "0          ['shoe']          1  \n",
       "1          ['hand']          1  \n",
       "2  ['head', 'face']          1  \n",
       "3               NaN          1  \n",
       "4          ['foot']          1  "
      ]
     },
     "execution_count": 144,
     "metadata": {},
     "output_type": "execute_result"
    }
   ],
   "source": [
    "overall_df = overall_df.drop(columns=[\"code\", 'id', 'something'])\n",
    "overall_df.head()"
   ]
  },
  {
   "cell_type": "code",
   "execution_count": 146,
   "id": "09072010",
   "metadata": {},
   "outputs": [
    {
     "data": {
      "text/plain": [
       "0                ['shoe']\n",
       "1                ['hand']\n",
       "2        ['head', 'face']\n",
       "3                ['kind']\n",
       "4                ['foot']\n",
       "               ...       \n",
       "68223        ['eyeliner']\n",
       "68224        ['eyeliner']\n",
       "68225                 NaN\n",
       "68226                 NaN\n",
       "68227                 NaN\n",
       "Name: attribute_1, Length: 111006, dtype: object"
      ]
     },
     "execution_count": 146,
     "metadata": {},
     "output_type": "execute_result"
    }
   ],
   "source": [
    "overall_df['attribute_1']"
   ]
  },
  {
   "cell_type": "code",
   "execution_count": 147,
   "id": "46da7563",
   "metadata": {},
   "outputs": [
    {
     "data": {
      "text/html": [
       "<div>\n",
       "<style scoped>\n",
       "    .dataframe tbody tr th:only-of-type {\n",
       "        vertical-align: middle;\n",
       "    }\n",
       "\n",
       "    .dataframe tbody tr th {\n",
       "        vertical-align: top;\n",
       "    }\n",
       "\n",
       "    .dataframe thead th {\n",
       "        text-align: right;\n",
       "    }\n",
       "</style>\n",
       "<table border=\"1\" class=\"dataframe\">\n",
       "  <thead>\n",
       "    <tr style=\"text-align: right;\">\n",
       "      <th></th>\n",
       "      <th>0</th>\n",
       "      <th>1</th>\n",
       "      <th>2</th>\n",
       "      <th>3</th>\n",
       "      <th>4</th>\n",
       "      <th>5</th>\n",
       "      <th>6</th>\n",
       "      <th>7</th>\n",
       "      <th>8</th>\n",
       "    </tr>\n",
       "  </thead>\n",
       "  <tbody>\n",
       "    <tr>\n",
       "      <th>0</th>\n",
       "      <td>shoe</td>\n",
       "      <td>None</td>\n",
       "      <td>None</td>\n",
       "      <td>None</td>\n",
       "      <td>None</td>\n",
       "      <td>None</td>\n",
       "      <td>None</td>\n",
       "      <td>None</td>\n",
       "      <td>None</td>\n",
       "    </tr>\n",
       "    <tr>\n",
       "      <th>1</th>\n",
       "      <td>hand</td>\n",
       "      <td>None</td>\n",
       "      <td>None</td>\n",
       "      <td>None</td>\n",
       "      <td>None</td>\n",
       "      <td>None</td>\n",
       "      <td>None</td>\n",
       "      <td>None</td>\n",
       "      <td>None</td>\n",
       "    </tr>\n",
       "    <tr>\n",
       "      <th>2</th>\n",
       "      <td>head</td>\n",
       "      <td>face</td>\n",
       "      <td>None</td>\n",
       "      <td>None</td>\n",
       "      <td>None</td>\n",
       "      <td>None</td>\n",
       "      <td>None</td>\n",
       "      <td>None</td>\n",
       "      <td>None</td>\n",
       "    </tr>\n",
       "    <tr>\n",
       "      <th>3</th>\n",
       "      <td>kind</td>\n",
       "      <td>None</td>\n",
       "      <td>None</td>\n",
       "      <td>None</td>\n",
       "      <td>None</td>\n",
       "      <td>None</td>\n",
       "      <td>None</td>\n",
       "      <td>None</td>\n",
       "      <td>None</td>\n",
       "    </tr>\n",
       "    <tr>\n",
       "      <th>4</th>\n",
       "      <td>foot</td>\n",
       "      <td>None</td>\n",
       "      <td>None</td>\n",
       "      <td>None</td>\n",
       "      <td>None</td>\n",
       "      <td>None</td>\n",
       "      <td>None</td>\n",
       "      <td>None</td>\n",
       "      <td>None</td>\n",
       "    </tr>\n",
       "  </tbody>\n",
       "</table>\n",
       "</div>"
      ],
      "text/plain": [
       "      0     1     2     3     4     5     6     7     8\n",
       "0  shoe  None  None  None  None  None  None  None  None\n",
       "1  hand  None  None  None  None  None  None  None  None\n",
       "2  head  face  None  None  None  None  None  None  None\n",
       "3  kind  None  None  None  None  None  None  None  None\n",
       "4  foot  None  None  None  None  None  None  None  None"
      ]
     },
     "execution_count": 147,
     "metadata": {},
     "output_type": "execute_result"
    }
   ],
   "source": [
    "attributes_1 = overall_df['attribute_1'].str.replace(r\"[\\[\\]']\", \"\", regex=True).str.split(\", \", expand=True)\n",
    "attributes_2 = overall_df['attribute_2'].str.replace(r\"[\\[\\]']\", \"\", regex=True).str.split(\", \", expand=True)\n",
    "\n",
    "attributes_1.head()"
   ]
  },
  {
   "cell_type": "code",
   "execution_count": 155,
   "id": "692cfea2",
   "metadata": {},
   "outputs": [],
   "source": [
    "all_attributes = pd.concat([attributes_1, attributes_2], axis=1)\n",
    "\n",
    "attributes_fixed = all_attributes.apply(lambda x: pd.unique(x[x.notnull()]), axis=1)"
   ]
  },
  {
   "cell_type": "code",
   "execution_count": 157,
   "id": "e63fc337",
   "metadata": {},
   "outputs": [
    {
     "data": {
      "text/html": [
       "<div>\n",
       "<style scoped>\n",
       "    .dataframe tbody tr th:only-of-type {\n",
       "        vertical-align: middle;\n",
       "    }\n",
       "\n",
       "    .dataframe tbody tr th {\n",
       "        vertical-align: top;\n",
       "    }\n",
       "\n",
       "    .dataframe thead th {\n",
       "        text-align: right;\n",
       "    }\n",
       "</style>\n",
       "<table border=\"1\" class=\"dataframe\">\n",
       "  <thead>\n",
       "    <tr style=\"text-align: right;\">\n",
       "      <th></th>\n",
       "      <th>Thread</th>\n",
       "      <th>Username</th>\n",
       "      <th>comment</th>\n",
       "      <th>sentiment</th>\n",
       "      <th>attributes</th>\n",
       "    </tr>\n",
       "  </thead>\n",
       "  <tbody>\n",
       "    <tr>\n",
       "      <th>0</th>\n",
       "      <td>FreeCompliments</td>\n",
       "      <td>Golden161</td>\n",
       "      <td>Stay away from people who can't put themselves...</td>\n",
       "      <td>1</td>\n",
       "      <td>[shoe]</td>\n",
       "    </tr>\n",
       "    <tr>\n",
       "      <th>1</th>\n",
       "      <td>FreeCompliments</td>\n",
       "      <td>beebeedoom</td>\n",
       "      <td>If the answer is no, then you accept the hand ...</td>\n",
       "      <td>1</td>\n",
       "      <td>[hand]</td>\n",
       "    </tr>\n",
       "    <tr>\n",
       "      <th>2</th>\n",
       "      <td>FreeCompliments</td>\n",
       "      <td>[deleted]</td>\n",
       "      <td>I know you have it in you to face your current...</td>\n",
       "      <td>1</td>\n",
       "      <td>[head, face]</td>\n",
       "    </tr>\n",
       "    <tr>\n",
       "      <th>3</th>\n",
       "      <td>FreeCompliments</td>\n",
       "      <td>Orions_End</td>\n",
       "      <td>You serve our kind with great honor.</td>\n",
       "      <td>1</td>\n",
       "      <td>[kind]</td>\n",
       "    </tr>\n",
       "    <tr>\n",
       "      <th>4</th>\n",
       "      <td>FreeCompliments</td>\n",
       "      <td>HAAAANS</td>\n",
       "      <td>That's your foot hold to climb the fucking mou...</td>\n",
       "      <td>1</td>\n",
       "      <td>[foot]</td>\n",
       "    </tr>\n",
       "  </tbody>\n",
       "</table>\n",
       "</div>"
      ],
      "text/plain": [
       "            Thread    Username  \\\n",
       "0  FreeCompliments   Golden161   \n",
       "1  FreeCompliments  beebeedoom   \n",
       "2  FreeCompliments   [deleted]   \n",
       "3  FreeCompliments  Orions_End   \n",
       "4  FreeCompliments     HAAAANS   \n",
       "\n",
       "                                             comment  sentiment    attributes  \n",
       "0  Stay away from people who can't put themselves...          1        [shoe]  \n",
       "1  If the answer is no, then you accept the hand ...          1        [hand]  \n",
       "2  I know you have it in you to face your current...          1  [head, face]  \n",
       "3               You serve our kind with great honor.          1        [kind]  \n",
       "4  That's your foot hold to climb the fucking mou...          1        [foot]  "
      ]
     },
     "execution_count": 157,
     "metadata": {},
     "output_type": "execute_result"
    }
   ],
   "source": [
    "overall_df = overall_df.drop(['attribute_1', 'attribute_2'], axis=1)\n",
    "overall_df['attributes'] = attributes_fixed\n",
    "overall_df.head()"
   ]
  },
  {
   "cell_type": "markdown",
   "id": "b66012c7",
   "metadata": {},
   "source": [
    "This is the final, cleaned dataset."
   ]
  },
  {
   "cell_type": "code",
   "execution_count": 159,
   "id": "a8d0536f",
   "metadata": {},
   "outputs": [
    {
     "data": {
      "text/plain": [
       "Thread        0\n",
       "Username      0\n",
       "comment       0\n",
       "sentiment     0\n",
       "attributes    0\n",
       "dtype: int64"
      ]
     },
     "execution_count": 159,
     "metadata": {},
     "output_type": "execute_result"
    }
   ],
   "source": [
    "overall_df.isna().sum()"
   ]
  },
  {
   "cell_type": "markdown",
   "id": "bade53a7",
   "metadata": {},
   "source": [
    "Let's save this new dataset to use it for training"
   ]
  },
  {
   "cell_type": "code",
   "execution_count": 161,
   "id": "f47ddeb8",
   "metadata": {},
   "outputs": [],
   "source": [
    "overall_df.to_csv('./cleaned_overall.csv')"
   ]
  },
  {
   "cell_type": "markdown",
   "id": "26dea3ec",
   "metadata": {},
   "source": [
    "https://aclanthology.org/2021.woah-1.14.pdf"
   ]
  },
  {
   "cell_type": "code",
   "execution_count": null,
   "id": "13920522",
   "metadata": {},
   "outputs": [],
   "source": []
  }
 ],
 "metadata": {
  "kernelspec": {
   "display_name": "Python 3 (ipykernel)",
   "language": "python",
   "name": "python3"
  },
  "language_info": {
   "codemirror_mode": {
    "name": "ipython",
    "version": 3
   },
   "file_extension": ".py",
   "mimetype": "text/x-python",
   "name": "python",
   "nbconvert_exporter": "python",
   "pygments_lexer": "ipython3",
   "version": "3.10.4"
  }
 },
 "nbformat": 4,
 "nbformat_minor": 5
}
