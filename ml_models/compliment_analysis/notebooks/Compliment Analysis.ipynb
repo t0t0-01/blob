{
 "cells": [
  {
   "cell_type": "markdown",
   "id": "18af0a17",
   "metadata": {
    "id": "18af0a17"
   },
   "source": [
    "<img src=\"./images/Blob_logo.png\" height=600 width=600 />"
   ]
  },
  {
   "cell_type": "markdown",
   "id": "76f995f1",
   "metadata": {
    "id": "76f995f1"
   },
   "source": [
    "# Table of Contents"
   ]
  },
  {
   "cell_type": "markdown",
   "id": "cbc7bc49",
   "metadata": {
    "id": "cbc7bc49"
   },
   "source": [
    "1. [Introduction](#Introduction)\n",
    "2. [Data Preparation](#Data%20Preparation)\n",
    "3. [Modeling](#Modeling)\n",
    "4. [Evaluation](#Evaluation)\n",
    "5. [Deployment](#Deployment)"
   ]
  },
  {
   "cell_type": "markdown",
   "id": "5a9f696f",
   "metadata": {
    "id": "5a9f696f"
   },
   "source": [
    "# Introduction"
   ]
  },
  {
   "cell_type": "markdown",
   "id": "79cf7ada",
   "metadata": {
    "id": "79cf7ada"
   },
   "source": [
    "In this project, we will be building a Machine Learning model that identifies sentences as either a compliment or an insult.\n",
    "\n",
    "\n",
    "![compliment_or_insult](./images/praise.png)"
   ]
  },
  {
   "cell_type": "markdown",
   "id": "80c74834",
   "metadata": {
    "id": "80c74834"
   },
   "source": [
    "This model will be used in our Final Year's Project, Blob. \n",
    "\n",
    "Blob is a platform that increases social engagement in a community by introducing people to others in their line of sight and by facilitating a face-to-face conversation or activity about some common interests. \n",
    "\n",
    "As part of the user flow, users will be prompted to *compliment* each other after having completed an interaction. This model will be used to ensure the positivity of the messages sent between the users."
   ]
  },
  {
   "attachments": {},
   "cell_type": "markdown",
   "id": "f3bb2567",
   "metadata": {},
   "source": [
    "<img src=\"./images/content_tracker.png\" height=800 width=800 />"
   ]
  },
  {
   "cell_type": "markdown",
   "id": "79743844",
   "metadata": {},
   "source": [
    "**Note that a second part of this system is tackled in the *tips* notebook.** While in this notebook we perform sentiment analysis on the compliment, there we perform topic classification to identify what the compliment tackles."
   ]
  },
  {
   "cell_type": "markdown",
   "id": "6f6e2e18",
   "metadata": {
    "id": "6f6e2e18"
   },
   "source": [
    "As with all machine learning projects, first we will start off by exploring and cleaning a relevant dataset for this project. Then, we build two machine learning models, one following the SVM techonolgies and one following the more advanced Transformer technology. Finally, we compare both models in the evaluation section."
   ]
  },
  {
   "cell_type": "markdown",
   "id": "6f5808ce",
   "metadata": {
    "id": "6f5808ce"
   },
   "source": [
    "# Data Preparation"
   ]
  },
  {
   "cell_type": "markdown",
   "id": "275556bb",
   "metadata": {
    "id": "275556bb"
   },
   "source": [
    "As a dataset for this project, we decided to use the *Jibes and Delight* dataset. This is a dataset that was aggregated by the authors of [this paper](https://aclanthology.org/2021.woah-1.14/) and can be downloaded from its corresponding [Github repo](https://github.com/ravsodhi/jibes-and-delights).\n",
    "\n",
    "The data was gathered from three different subreddits: *FreeCompliments*, *ToastMe*, and *RoastMe*. The dataset three different files, one for the data scraped from each repo.\n",
    "\n",
    "Below is an image taken from the paper mentioned above that shows some examples of insults and compliments:\n",
    "\n",
    "<img src='./images/compliments_insults.png' width=400 height=400/>\n",
    "\n",
    "Let's start off by exploring this dataset in details and structuring it in a way that is relevant to our use case."
   ]
  },
  {
   "cell_type": "code",
   "execution_count": null,
   "id": "6ef1fc0d",
   "metadata": {
    "id": "6ef1fc0d",
    "outputId": "b7a57e7b-e254-4f46-e241-bc40c8d1a758"
   },
   "outputs": [
    {
     "name": "stdout",
     "output_type": "stream",
     "text": [
      "Total number of entries: 19272\n"
     ]
    },
    {
     "data": {
      "text/html": [
       "<div>\n",
       "<style scoped>\n",
       "    .dataframe tbody tr th:only-of-type {\n",
       "        vertical-align: middle;\n",
       "    }\n",
       "\n",
       "    .dataframe tbody tr th {\n",
       "        vertical-align: top;\n",
       "    }\n",
       "\n",
       "    .dataframe thead th {\n",
       "        text-align: right;\n",
       "    }\n",
       "</style>\n",
       "<table border=\"1\" class=\"dataframe\">\n",
       "  <thead>\n",
       "    <tr style=\"text-align: right;\">\n",
       "      <th></th>\n",
       "      <th>subreddit</th>\n",
       "      <th>username</th>\n",
       "      <th>code</th>\n",
       "      <th>id</th>\n",
       "      <th>xx</th>\n",
       "      <th>comment</th>\n",
       "      <th>attribute_1</th>\n",
       "      <th>attribute_2</th>\n",
       "    </tr>\n",
       "  </thead>\n",
       "  <tbody>\n",
       "    <tr>\n",
       "      <th>0</th>\n",
       "      <td>FreeCompliments</td>\n",
       "      <td>Golden161</td>\n",
       "      <td>cao8gsf</td>\n",
       "      <td>1371938253</td>\n",
       "      <td>3</td>\n",
       "      <td>Stay away from people who can't put themselves...</td>\n",
       "      <td>['shoe']</td>\n",
       "      <td>['shoe']</td>\n",
       "    </tr>\n",
       "    <tr>\n",
       "      <th>1</th>\n",
       "      <td>FreeCompliments</td>\n",
       "      <td>beebeedoom</td>\n",
       "      <td>caoa1we</td>\n",
       "      <td>1371943954</td>\n",
       "      <td>3</td>\n",
       "      <td>If the answer is no, then you accept the hand ...</td>\n",
       "      <td>['hand']</td>\n",
       "      <td>['hand']</td>\n",
       "    </tr>\n",
       "    <tr>\n",
       "      <th>2</th>\n",
       "      <td>FreeCompliments</td>\n",
       "      <td>[deleted]</td>\n",
       "      <td>caoeg34</td>\n",
       "      <td>1371959999</td>\n",
       "      <td>3</td>\n",
       "      <td>I know you have it in you to face your current...</td>\n",
       "      <td>['head', 'face']</td>\n",
       "      <td>['head', 'face']</td>\n",
       "    </tr>\n",
       "    <tr>\n",
       "      <th>3</th>\n",
       "      <td>FreeCompliments</td>\n",
       "      <td>Orions_End</td>\n",
       "      <td>chplg8k</td>\n",
       "      <td>1400883120</td>\n",
       "      <td>3</td>\n",
       "      <td>You serve our kind with great honor.</td>\n",
       "      <td>['kind']</td>\n",
       "      <td>NaN</td>\n",
       "    </tr>\n",
       "    <tr>\n",
       "      <th>4</th>\n",
       "      <td>FreeCompliments</td>\n",
       "      <td>HAAAANS</td>\n",
       "      <td>chqivqk</td>\n",
       "      <td>1400995411</td>\n",
       "      <td>4</td>\n",
       "      <td>That's your foot hold to climb the fucking mou...</td>\n",
       "      <td>['foot']</td>\n",
       "      <td>['foot']</td>\n",
       "    </tr>\n",
       "  </tbody>\n",
       "</table>\n",
       "</div>"
      ],
      "text/plain": [
       "         subreddit    username     code          id  xx  \\\n",
       "0  FreeCompliments   Golden161  cao8gsf  1371938253   3   \n",
       "1  FreeCompliments  beebeedoom  caoa1we  1371943954   3   \n",
       "2  FreeCompliments   [deleted]  caoeg34  1371959999   3   \n",
       "3  FreeCompliments  Orions_End  chplg8k  1400883120   3   \n",
       "4  FreeCompliments     HAAAANS  chqivqk  1400995411   4   \n",
       "\n",
       "                                             comment       attribute_1  \\\n",
       "0  Stay away from people who can't put themselves...          ['shoe']   \n",
       "1  If the answer is no, then you accept the hand ...          ['hand']   \n",
       "2  I know you have it in you to face your current...  ['head', 'face']   \n",
       "3               You serve our kind with great honor.          ['kind']   \n",
       "4  That's your foot hold to climb the fucking mou...          ['foot']   \n",
       "\n",
       "        attribute_2  \n",
       "0          ['shoe']  \n",
       "1          ['hand']  \n",
       "2  ['head', 'face']  \n",
       "3               NaN  \n",
       "4          ['foot']  "
      ]
     },
     "execution_count": 9,
     "metadata": {},
     "output_type": "execute_result"
    }
   ],
   "source": [
    "import pandas as pd\n",
    "import numpy as np\n",
    "\n",
    "# read \n",
    "free_compliments_df = pd.read_csv('../data/FreeCompliments-filtered.csv', sep='\\t', na_values='[]', names=['subreddit', 'username', 'code', 'id', 'xx', 'comment', 'attribute_1', 'attribute_2'])\n",
    "\n",
    "\n",
    "print(f\"Total number of entries: {len(free_compliments_df)}\")\n",
    "free_compliments_df.head()"
   ]
  },
  {
   "cell_type": "markdown",
   "id": "9fbf4627",
   "metadata": {
    "id": "9fbf4627"
   },
   "source": [
    "Let's print a couple of comments to see what they look like"
   ]
  },
  {
   "cell_type": "code",
   "execution_count": null,
   "id": "fe85447f",
   "metadata": {
    "id": "fe85447f",
    "outputId": "10448a8c-2fac-4ea9-8b67-bcc044786a0b"
   },
   "outputs": [
    {
     "name": "stdout",
     "output_type": "stream",
     "text": [
      "Comment #1: The colours in your shirt really make the green in your eyes pop.\n",
      "\n",
      "Comment #2: They're deep set (further in your skull), and the result is a mysterious, thoughtful sort of vibe.\n",
      "\n",
      "Comment #3: Keep your chin up.\n",
      "\n",
      "Comment #4: Remember to share that beautiful smile with others so that you can help them escape their sad days too!\n",
      "\n",
      "Comment #5: Your eyes look so mesmerizing!\n",
      "\n",
      "Comment #6: You are really cut and have a nice nose shape.\n",
      "\n",
      "Comment #7: Your nose ring is fucking rad.\n",
      "\n",
      "Comment #8: I hope you find happiness again soon.\n",
      "\n",
      "Comment #9: There is so much good stuff left to do in your life, especially with a face like that, whether you’re dating someone or not.\n",
      "\n",
      "Comment #10: But damn your piercings are probably the best part about you.\n",
      "\n",
      "Comment #11: Keep your head high my friend.\n",
      "\n",
      "Comment #12: Hey there, you have beautiful eyes :)\n",
      "\n",
      "Comment #13: Your eyes are amazing!\n",
      "\n",
      "Comment #14: For now, your heart might be full of sadness, but if it's okay, I'd like to plant little seeds of love into your heart as well.\n",
      "\n",
      "Comment #15: You have really beautiful eyes and skin!\n",
      "\n"
     ]
    }
   ],
   "source": [
    "indices = np.random.randint(0, len(free_compliments_df), size=15)\n",
    "\n",
    "for pos, text in enumerate(free_compliments_df['comment'].iloc[indices]):\n",
    "    print(f\"Comment #{pos+1}: {text}\\n\")"
   ]
  },
  {
   "cell_type": "markdown",
   "id": "f40c2897",
   "metadata": {
    "id": "f40c2897"
   },
   "source": [
    "Let's continue checking the other *csv* files that correspond to to the other subreddits:"
   ]
  },
  {
   "cell_type": "code",
   "execution_count": null,
   "id": "3115eec1",
   "metadata": {
    "id": "3115eec1",
    "outputId": "90e735ef-33e3-46e0-d254-a2a498531bab"
   },
   "outputs": [
    {
     "name": "stdout",
     "output_type": "stream",
     "text": [
      "Total number of entries: 23506\n"
     ]
    },
    {
     "data": {
      "text/html": [
       "<div>\n",
       "<style scoped>\n",
       "    .dataframe tbody tr th:only-of-type {\n",
       "        vertical-align: middle;\n",
       "    }\n",
       "\n",
       "    .dataframe tbody tr th {\n",
       "        vertical-align: top;\n",
       "    }\n",
       "\n",
       "    .dataframe thead th {\n",
       "        text-align: right;\n",
       "    }\n",
       "</style>\n",
       "<table border=\"1\" class=\"dataframe\">\n",
       "  <thead>\n",
       "    <tr style=\"text-align: right;\">\n",
       "      <th></th>\n",
       "      <th>subreddit</th>\n",
       "      <th>username</th>\n",
       "      <th>code</th>\n",
       "      <th>id</th>\n",
       "      <th>xx</th>\n",
       "      <th>comment</th>\n",
       "      <th>attribute_1</th>\n",
       "      <th>attribute_2</th>\n",
       "    </tr>\n",
       "  </thead>\n",
       "  <tbody>\n",
       "    <tr>\n",
       "      <th>0</th>\n",
       "      <td>toastme</td>\n",
       "      <td>WizardSleeves118</td>\n",
       "      <td>cuxedha</td>\n",
       "      <td>1441932754</td>\n",
       "      <td>8</td>\n",
       "      <td>What the mind just in a glance interprets as y...</td>\n",
       "      <td>['heart', 'soul']</td>\n",
       "      <td>NaN</td>\n",
       "    </tr>\n",
       "    <tr>\n",
       "      <th>1</th>\n",
       "      <td>toastme</td>\n",
       "      <td>WizardSleeves118</td>\n",
       "      <td>cuxedha</td>\n",
       "      <td>1441932754</td>\n",
       "      <td>8</td>\n",
       "      <td>Your pure enjoyment of life and of others' hap...</td>\n",
       "      <td>['happiness']</td>\n",
       "      <td>NaN</td>\n",
       "    </tr>\n",
       "  </tbody>\n",
       "</table>\n",
       "</div>"
      ],
      "text/plain": [
       "  subreddit          username     code          id  xx  \\\n",
       "0   toastme  WizardSleeves118  cuxedha  1441932754   8   \n",
       "1   toastme  WizardSleeves118  cuxedha  1441932754   8   \n",
       "\n",
       "                                             comment        attribute_1  \\\n",
       "0  What the mind just in a glance interprets as y...  ['heart', 'soul']   \n",
       "1  Your pure enjoyment of life and of others' hap...      ['happiness']   \n",
       "\n",
       "  attribute_2  \n",
       "0         NaN  \n",
       "1         NaN  "
      ]
     },
     "execution_count": 143,
     "metadata": {},
     "output_type": "execute_result"
    }
   ],
   "source": [
    "toast_me_df = pd.read_csv('../data/ToastMe-filtered.csv', sep='\\t', na_values='[]', names=['subreddit', 'username', 'code', 'id', 'xx', 'comment', 'attribute_1', 'attribute_2'])\n",
    "print(f\"Total number of entries: {len(toast_me_df)}\")\n",
    "toast_me_df.head(2)"
   ]
  },
  {
   "cell_type": "code",
   "execution_count": null,
   "id": "5703c923",
   "metadata": {
    "id": "5703c923",
    "outputId": "a7f4690f-2d1a-447c-8bf3-863406bade59"
   },
   "outputs": [
    {
     "name": "stdout",
     "output_type": "stream",
     "text": [
      "Total number of entries: 68228\n"
     ]
    },
    {
     "data": {
      "text/html": [
       "<div>\n",
       "<style scoped>\n",
       "    .dataframe tbody tr th:only-of-type {\n",
       "        vertical-align: middle;\n",
       "    }\n",
       "\n",
       "    .dataframe tbody tr th {\n",
       "        vertical-align: top;\n",
       "    }\n",
       "\n",
       "    .dataframe thead th {\n",
       "        text-align: right;\n",
       "    }\n",
       "</style>\n",
       "<table border=\"1\" class=\"dataframe\">\n",
       "  <thead>\n",
       "    <tr style=\"text-align: right;\">\n",
       "      <th></th>\n",
       "      <th>subreddit</th>\n",
       "      <th>username</th>\n",
       "      <th>code</th>\n",
       "      <th>id</th>\n",
       "      <th>xx</th>\n",
       "      <th>comment</th>\n",
       "      <th>attribute_1</th>\n",
       "      <th>attribute_2</th>\n",
       "    </tr>\n",
       "  </thead>\n",
       "  <tbody>\n",
       "    <tr>\n",
       "      <th>0</th>\n",
       "      <td>RoastMe</td>\n",
       "      <td>Tyoko</td>\n",
       "      <td>cqlbxex</td>\n",
       "      <td>1429741144</td>\n",
       "      <td>3</td>\n",
       "      <td>It looks like someone burnt the left side of y...</td>\n",
       "      <td>['hair']</td>\n",
       "      <td>['hair']</td>\n",
       "    </tr>\n",
       "    <tr>\n",
       "      <th>1</th>\n",
       "      <td>RoastMe</td>\n",
       "      <td>SwagmasterEDP</td>\n",
       "      <td>cqlco3n</td>\n",
       "      <td>1429742402</td>\n",
       "      <td>5</td>\n",
       "      <td>you look like the kind of guy who would make a...</td>\n",
       "      <td>['kind']</td>\n",
       "      <td>NaN</td>\n",
       "    </tr>\n",
       "  </tbody>\n",
       "</table>\n",
       "</div>"
      ],
      "text/plain": [
       "  subreddit       username     code          id  xx  \\\n",
       "0   RoastMe          Tyoko  cqlbxex  1429741144   3   \n",
       "1   RoastMe  SwagmasterEDP  cqlco3n  1429742402   5   \n",
       "\n",
       "                                             comment attribute_1 attribute_2  \n",
       "0  It looks like someone burnt the left side of y...    ['hair']    ['hair']  \n",
       "1  you look like the kind of guy who would make a...    ['kind']         NaN  "
      ]
     },
     "execution_count": 142,
     "metadata": {},
     "output_type": "execute_result"
    }
   ],
   "source": [
    "roast_me_df = pd.read_csv('../data/RoastMe-filtered.csv', sep='\\t', na_values='[]', names=['subreddit', 'username', 'code', 'id', 'xx', 'comment', 'attribute_1', 'attribute_2'])\n",
    "print(f\"Total number of entries: {len(roast_me_df)}\")\n",
    "roast_me_df.head(2)"
   ]
  },
  {
   "cell_type": "markdown",
   "id": "4990a061",
   "metadata": {
    "id": "4990a061"
   },
   "source": [
    "While having a quick look at the lengths of each of the datasets, we can see that RoastMe is the largest at ~68,000 entries while the other two combined have around ~43,000. This means that our dataset is slightly imbalanced in favor of the *Roasts*:"
   ]
  },
  {
   "cell_type": "code",
   "execution_count": null,
   "id": "299c47f7",
   "metadata": {
    "id": "299c47f7",
    "outputId": "d96177dd-b273-4987-f375-fdbe1887fd5d"
   },
   "outputs": [
    {
     "name": "stdout",
     "output_type": "stream",
     "text": [
      "Percentage of Roasts: 61.5%\n",
      "Percentage of Roasts: 38.5%\n"
     ]
    }
   ],
   "source": [
    "print(f\"Percentage of Roasts: {100 * len(roast_me_df) / (len(roast_me_df) + len(toast_me_df) + len(free_compliments_df)):.1f}%\")\n",
    "print(f\"Percentage of Roasts: {100 * (len(toast_me_df) + len(free_compliments_df))/ (len(roast_me_df) + len(toast_me_df) + len(free_compliments_df)):.1f}%\")"
   ]
  },
  {
   "cell_type": "markdown",
   "id": "4d5ac6a4",
   "metadata": {
    "id": "4d5ac6a4"
   },
   "source": [
    "Furthermore, by inspecting the data seen above, we can see that the dataframe contains the subreddit, the comment, and some attributes that are mentioned in the comment. However, the attributes are split into two columns and sometimes contain duplicate information. Therefore, we will merge these columns and include only the unique information.\n",
    "\n",
    "But first, we will start off by merging the three different dataframes into one and adding a column for the label, which would be derived from the subreddit that the entry belongs to."
   ]
  },
  {
   "cell_type": "code",
   "execution_count": null,
   "id": "6b3188cb",
   "metadata": {
    "id": "6b3188cb",
    "outputId": "59db4522-fff5-468e-af10-6443ad871557"
   },
   "outputs": [
    {
     "name": "stdout",
     "output_type": "stream",
     "text": [
      "Total number of data: 111006\n"
     ]
    },
    {
     "data": {
      "text/html": [
       "<div>\n",
       "<style scoped>\n",
       "    .dataframe tbody tr th:only-of-type {\n",
       "        vertical-align: middle;\n",
       "    }\n",
       "\n",
       "    .dataframe tbody tr th {\n",
       "        vertical-align: top;\n",
       "    }\n",
       "\n",
       "    .dataframe thead th {\n",
       "        text-align: right;\n",
       "    }\n",
       "</style>\n",
       "<table border=\"1\" class=\"dataframe\">\n",
       "  <thead>\n",
       "    <tr style=\"text-align: right;\">\n",
       "      <th></th>\n",
       "      <th>subreddit</th>\n",
       "      <th>username</th>\n",
       "      <th>code</th>\n",
       "      <th>id</th>\n",
       "      <th>xx</th>\n",
       "      <th>comment</th>\n",
       "      <th>attribute_1</th>\n",
       "      <th>attribute_2</th>\n",
       "    </tr>\n",
       "  </thead>\n",
       "  <tbody>\n",
       "    <tr>\n",
       "      <th>0</th>\n",
       "      <td>FreeCompliments</td>\n",
       "      <td>Golden161</td>\n",
       "      <td>cao8gsf</td>\n",
       "      <td>1371938253</td>\n",
       "      <td>3</td>\n",
       "      <td>Stay away from people who can't put themselves...</td>\n",
       "      <td>['shoe']</td>\n",
       "      <td>['shoe']</td>\n",
       "    </tr>\n",
       "    <tr>\n",
       "      <th>1</th>\n",
       "      <td>FreeCompliments</td>\n",
       "      <td>beebeedoom</td>\n",
       "      <td>caoa1we</td>\n",
       "      <td>1371943954</td>\n",
       "      <td>3</td>\n",
       "      <td>If the answer is no, then you accept the hand ...</td>\n",
       "      <td>['hand']</td>\n",
       "      <td>['hand']</td>\n",
       "    </tr>\n",
       "    <tr>\n",
       "      <th>2</th>\n",
       "      <td>FreeCompliments</td>\n",
       "      <td>[deleted]</td>\n",
       "      <td>caoeg34</td>\n",
       "      <td>1371959999</td>\n",
       "      <td>3</td>\n",
       "      <td>I know you have it in you to face your current...</td>\n",
       "      <td>['head', 'face']</td>\n",
       "      <td>['head', 'face']</td>\n",
       "    </tr>\n",
       "    <tr>\n",
       "      <th>3</th>\n",
       "      <td>FreeCompliments</td>\n",
       "      <td>Orions_End</td>\n",
       "      <td>chplg8k</td>\n",
       "      <td>1400883120</td>\n",
       "      <td>3</td>\n",
       "      <td>You serve our kind with great honor.</td>\n",
       "      <td>['kind']</td>\n",
       "      <td>NaN</td>\n",
       "    </tr>\n",
       "    <tr>\n",
       "      <th>4</th>\n",
       "      <td>FreeCompliments</td>\n",
       "      <td>HAAAANS</td>\n",
       "      <td>chqivqk</td>\n",
       "      <td>1400995411</td>\n",
       "      <td>4</td>\n",
       "      <td>That's your foot hold to climb the fucking mou...</td>\n",
       "      <td>['foot']</td>\n",
       "      <td>['foot']</td>\n",
       "    </tr>\n",
       "  </tbody>\n",
       "</table>\n",
       "</div>"
      ],
      "text/plain": [
       "         subreddit    username     code          id  xx  \\\n",
       "0  FreeCompliments   Golden161  cao8gsf  1371938253   3   \n",
       "1  FreeCompliments  beebeedoom  caoa1we  1371943954   3   \n",
       "2  FreeCompliments   [deleted]  caoeg34  1371959999   3   \n",
       "3  FreeCompliments  Orions_End  chplg8k  1400883120   3   \n",
       "4  FreeCompliments     HAAAANS  chqivqk  1400995411   4   \n",
       "\n",
       "                                             comment       attribute_1  \\\n",
       "0  Stay away from people who can't put themselves...          ['shoe']   \n",
       "1  If the answer is no, then you accept the hand ...          ['hand']   \n",
       "2  I know you have it in you to face your current...  ['head', 'face']   \n",
       "3               You serve our kind with great honor.          ['kind']   \n",
       "4  That's your foot hold to climb the fucking mou...          ['foot']   \n",
       "\n",
       "        attribute_2  \n",
       "0          ['shoe']  \n",
       "1          ['hand']  \n",
       "2  ['head', 'face']  \n",
       "3               NaN  \n",
       "4          ['foot']  "
      ]
     },
     "execution_count": 37,
     "metadata": {},
     "output_type": "execute_result"
    }
   ],
   "source": [
    "overall_df = pd.concat([free_compliments_df, toast_me_df, roast_me_df], axis=0)\n",
    "\n",
    "print(f\"Total number of data: {len(overall_df)}\")\n",
    "overall_df.head()"
   ]
  },
  {
   "cell_type": "markdown",
   "id": "87e17d35",
   "metadata": {
    "id": "87e17d35"
   },
   "source": [
    "We will represent an insult with 0 (that is, an entry coming from the *RoastMe* subreddit) and a compliment with 1 (entries coming from the other subreddits)."
   ]
  },
  {
   "cell_type": "code",
   "execution_count": null,
   "id": "798a9d50",
   "metadata": {
    "id": "798a9d50",
    "outputId": "6406c432-5b5b-4901-bda9-559c610b025b"
   },
   "outputs": [
    {
     "data": {
      "text/html": [
       "<div>\n",
       "<style scoped>\n",
       "    .dataframe tbody tr th:only-of-type {\n",
       "        vertical-align: middle;\n",
       "    }\n",
       "\n",
       "    .dataframe tbody tr th {\n",
       "        vertical-align: top;\n",
       "    }\n",
       "\n",
       "    .dataframe thead th {\n",
       "        text-align: right;\n",
       "    }\n",
       "</style>\n",
       "<table border=\"1\" class=\"dataframe\">\n",
       "  <thead>\n",
       "    <tr style=\"text-align: right;\">\n",
       "      <th></th>\n",
       "      <th>subreddit</th>\n",
       "      <th>username</th>\n",
       "      <th>code</th>\n",
       "      <th>id</th>\n",
       "      <th>xx</th>\n",
       "      <th>comment</th>\n",
       "      <th>attribute_1</th>\n",
       "      <th>attribute_2</th>\n",
       "      <th>sentiment</th>\n",
       "    </tr>\n",
       "  </thead>\n",
       "  <tbody>\n",
       "    <tr>\n",
       "      <th>0</th>\n",
       "      <td>FreeCompliments</td>\n",
       "      <td>Golden161</td>\n",
       "      <td>cao8gsf</td>\n",
       "      <td>1371938253</td>\n",
       "      <td>3</td>\n",
       "      <td>Stay away from people who can't put themselves...</td>\n",
       "      <td>['shoe']</td>\n",
       "      <td>['shoe']</td>\n",
       "      <td>1</td>\n",
       "    </tr>\n",
       "    <tr>\n",
       "      <th>1</th>\n",
       "      <td>FreeCompliments</td>\n",
       "      <td>beebeedoom</td>\n",
       "      <td>caoa1we</td>\n",
       "      <td>1371943954</td>\n",
       "      <td>3</td>\n",
       "      <td>If the answer is no, then you accept the hand ...</td>\n",
       "      <td>['hand']</td>\n",
       "      <td>['hand']</td>\n",
       "      <td>1</td>\n",
       "    </tr>\n",
       "    <tr>\n",
       "      <th>2</th>\n",
       "      <td>FreeCompliments</td>\n",
       "      <td>[deleted]</td>\n",
       "      <td>caoeg34</td>\n",
       "      <td>1371959999</td>\n",
       "      <td>3</td>\n",
       "      <td>I know you have it in you to face your current...</td>\n",
       "      <td>['head', 'face']</td>\n",
       "      <td>['head', 'face']</td>\n",
       "      <td>1</td>\n",
       "    </tr>\n",
       "    <tr>\n",
       "      <th>3</th>\n",
       "      <td>FreeCompliments</td>\n",
       "      <td>Orions_End</td>\n",
       "      <td>chplg8k</td>\n",
       "      <td>1400883120</td>\n",
       "      <td>3</td>\n",
       "      <td>You serve our kind with great honor.</td>\n",
       "      <td>['kind']</td>\n",
       "      <td>NaN</td>\n",
       "      <td>1</td>\n",
       "    </tr>\n",
       "    <tr>\n",
       "      <th>4</th>\n",
       "      <td>FreeCompliments</td>\n",
       "      <td>HAAAANS</td>\n",
       "      <td>chqivqk</td>\n",
       "      <td>1400995411</td>\n",
       "      <td>4</td>\n",
       "      <td>That's your foot hold to climb the fucking mou...</td>\n",
       "      <td>['foot']</td>\n",
       "      <td>['foot']</td>\n",
       "      <td>1</td>\n",
       "    </tr>\n",
       "  </tbody>\n",
       "</table>\n",
       "</div>"
      ],
      "text/plain": [
       "         subreddit    username     code          id  xx  \\\n",
       "0  FreeCompliments   Golden161  cao8gsf  1371938253   3   \n",
       "1  FreeCompliments  beebeedoom  caoa1we  1371943954   3   \n",
       "2  FreeCompliments   [deleted]  caoeg34  1371959999   3   \n",
       "3  FreeCompliments  Orions_End  chplg8k  1400883120   3   \n",
       "4  FreeCompliments     HAAAANS  chqivqk  1400995411   4   \n",
       "\n",
       "                                             comment       attribute_1  \\\n",
       "0  Stay away from people who can't put themselves...          ['shoe']   \n",
       "1  If the answer is no, then you accept the hand ...          ['hand']   \n",
       "2  I know you have it in you to face your current...  ['head', 'face']   \n",
       "3               You serve our kind with great honor.          ['kind']   \n",
       "4  That's your foot hold to climb the fucking mou...          ['foot']   \n",
       "\n",
       "        attribute_2  sentiment  \n",
       "0          ['shoe']          1  \n",
       "1          ['hand']          1  \n",
       "2  ['head', 'face']          1  \n",
       "3               NaN          1  \n",
       "4          ['foot']          1  "
      ]
     },
     "execution_count": 38,
     "metadata": {},
     "output_type": "execute_result"
    }
   ],
   "source": [
    "overall_df['sentiment'] = overall_df['subreddit'].apply(lambda x: 0 if x == 'RoastMe' else 1)\n",
    "overall_df.head()"
   ]
  },
  {
   "cell_type": "code",
   "execution_count": null,
   "id": "ae66e69a",
   "metadata": {
    "id": "ae66e69a",
    "outputId": "5723bc1c-6f4f-48ef-d5c9-0281f1ba914c"
   },
   "outputs": [
    {
     "data": {
      "text/plain": [
       "0    68228\n",
       "1    42778\n",
       "Name: sentiment, dtype: int64"
      ]
     },
     "execution_count": 39,
     "metadata": {},
     "output_type": "execute_result"
    }
   ],
   "source": [
    "overall_df['sentiment'].value_counts()"
   ]
  },
  {
   "cell_type": "markdown",
   "id": "05a68ec1",
   "metadata": {
    "id": "05a68ec1"
   },
   "source": [
    "Next, let's drop columns that are not relevant to our case."
   ]
  },
  {
   "cell_type": "code",
   "execution_count": null,
   "id": "8a0dc3d6",
   "metadata": {
    "id": "8a0dc3d6"
   },
   "outputs": [],
   "source": [
    "overall_df = overall_df.drop(columns=[\"code\", 'id', 'xx'])"
   ]
  },
  {
   "cell_type": "markdown",
   "id": "63682eef",
   "metadata": {
    "id": "63682eef"
   },
   "source": [
    "Now we proceed with merging the two *attribute* columns, making sure to only include the unique values.\n",
    "\n",
    "To do so, we first unravel the list in each attribute column and combine the unraveled results into one dataframe"
   ]
  },
  {
   "cell_type": "code",
   "execution_count": null,
   "id": "e085e42f",
   "metadata": {
    "id": "e085e42f",
    "outputId": "324e431e-4ab0-452e-95e5-91d0929d7fce"
   },
   "outputs": [
    {
     "data": {
      "text/html": [
       "<div>\n",
       "<style scoped>\n",
       "    .dataframe tbody tr th:only-of-type {\n",
       "        vertical-align: middle;\n",
       "    }\n",
       "\n",
       "    .dataframe tbody tr th {\n",
       "        vertical-align: top;\n",
       "    }\n",
       "\n",
       "    .dataframe thead th {\n",
       "        text-align: right;\n",
       "    }\n",
       "</style>\n",
       "<table border=\"1\" class=\"dataframe\">\n",
       "  <thead>\n",
       "    <tr style=\"text-align: right;\">\n",
       "      <th></th>\n",
       "      <th>0</th>\n",
       "      <th>1</th>\n",
       "      <th>2</th>\n",
       "      <th>3</th>\n",
       "      <th>4</th>\n",
       "      <th>5</th>\n",
       "      <th>6</th>\n",
       "      <th>7</th>\n",
       "      <th>8</th>\n",
       "      <th>0</th>\n",
       "      <th>1</th>\n",
       "      <th>2</th>\n",
       "      <th>3</th>\n",
       "      <th>4</th>\n",
       "      <th>5</th>\n",
       "      <th>6</th>\n",
       "      <th>7</th>\n",
       "    </tr>\n",
       "  </thead>\n",
       "  <tbody>\n",
       "    <tr>\n",
       "      <th>0</th>\n",
       "      <td>shoe</td>\n",
       "      <td>None</td>\n",
       "      <td>None</td>\n",
       "      <td>None</td>\n",
       "      <td>None</td>\n",
       "      <td>None</td>\n",
       "      <td>None</td>\n",
       "      <td>None</td>\n",
       "      <td>None</td>\n",
       "      <td>shoe</td>\n",
       "      <td>None</td>\n",
       "      <td>None</td>\n",
       "      <td>None</td>\n",
       "      <td>None</td>\n",
       "      <td>None</td>\n",
       "      <td>None</td>\n",
       "      <td>None</td>\n",
       "    </tr>\n",
       "    <tr>\n",
       "      <th>1</th>\n",
       "      <td>hand</td>\n",
       "      <td>None</td>\n",
       "      <td>None</td>\n",
       "      <td>None</td>\n",
       "      <td>None</td>\n",
       "      <td>None</td>\n",
       "      <td>None</td>\n",
       "      <td>None</td>\n",
       "      <td>None</td>\n",
       "      <td>hand</td>\n",
       "      <td>None</td>\n",
       "      <td>None</td>\n",
       "      <td>None</td>\n",
       "      <td>None</td>\n",
       "      <td>None</td>\n",
       "      <td>None</td>\n",
       "      <td>None</td>\n",
       "    </tr>\n",
       "  </tbody>\n",
       "</table>\n",
       "</div>"
      ],
      "text/plain": [
       "      0     1     2     3     4     5     6     7     8     0     1     2  \\\n",
       "0  shoe  None  None  None  None  None  None  None  None  shoe  None  None   \n",
       "1  hand  None  None  None  None  None  None  None  None  hand  None  None   \n",
       "\n",
       "      3     4     5     6     7  \n",
       "0  None  None  None  None  None  \n",
       "1  None  None  None  None  None  "
      ]
     },
     "execution_count": 42,
     "metadata": {},
     "output_type": "execute_result"
    }
   ],
   "source": [
    "attributes_1 = overall_df['attribute_1'].str.replace(r\"[\\[\\]']\", \"\", regex=True).str.split(\", \", expand=True)\n",
    "attributes_2 = overall_df['attribute_2'].str.replace(r\"[\\[\\]']\", \"\", regex=True).str.split(\", \", expand=True)\n",
    "all_attributes = pd.concat([attributes_1, attributes_2], axis=1)\n",
    "\n",
    "all_attributes.head(2)"
   ]
  },
  {
   "cell_type": "markdown",
   "id": "dce53888",
   "metadata": {
    "id": "dce53888"
   },
   "source": [
    "Now we aggregate the valid answers and take the unique set"
   ]
  },
  {
   "cell_type": "code",
   "execution_count": null,
   "id": "9939df37",
   "metadata": {
    "id": "9939df37"
   },
   "outputs": [],
   "source": [
    "attributes_fixed = all_attributes.apply(lambda x: pd.unique(x[x.notnull()]), axis=1)"
   ]
  },
  {
   "cell_type": "code",
   "execution_count": null,
   "id": "ec6ab980",
   "metadata": {
    "id": "ec6ab980",
    "outputId": "2ce5a4f1-7760-4687-b20f-dc1e73c3114b"
   },
   "outputs": [
    {
     "data": {
      "text/html": [
       "<div>\n",
       "<style scoped>\n",
       "    .dataframe tbody tr th:only-of-type {\n",
       "        vertical-align: middle;\n",
       "    }\n",
       "\n",
       "    .dataframe tbody tr th {\n",
       "        vertical-align: top;\n",
       "    }\n",
       "\n",
       "    .dataframe thead th {\n",
       "        text-align: right;\n",
       "    }\n",
       "</style>\n",
       "<table border=\"1\" class=\"dataframe\">\n",
       "  <thead>\n",
       "    <tr style=\"text-align: right;\">\n",
       "      <th></th>\n",
       "      <th>subreddit</th>\n",
       "      <th>username</th>\n",
       "      <th>comment</th>\n",
       "      <th>sentiment</th>\n",
       "      <th>attributes</th>\n",
       "    </tr>\n",
       "  </thead>\n",
       "  <tbody>\n",
       "    <tr>\n",
       "      <th>0</th>\n",
       "      <td>FreeCompliments</td>\n",
       "      <td>Golden161</td>\n",
       "      <td>Stay away from people who can't put themselves...</td>\n",
       "      <td>1</td>\n",
       "      <td>[shoe]</td>\n",
       "    </tr>\n",
       "    <tr>\n",
       "      <th>1</th>\n",
       "      <td>FreeCompliments</td>\n",
       "      <td>beebeedoom</td>\n",
       "      <td>If the answer is no, then you accept the hand ...</td>\n",
       "      <td>1</td>\n",
       "      <td>[hand]</td>\n",
       "    </tr>\n",
       "    <tr>\n",
       "      <th>2</th>\n",
       "      <td>FreeCompliments</td>\n",
       "      <td>[deleted]</td>\n",
       "      <td>I know you have it in you to face your current...</td>\n",
       "      <td>1</td>\n",
       "      <td>[head, face]</td>\n",
       "    </tr>\n",
       "    <tr>\n",
       "      <th>3</th>\n",
       "      <td>FreeCompliments</td>\n",
       "      <td>Orions_End</td>\n",
       "      <td>You serve our kind with great honor.</td>\n",
       "      <td>1</td>\n",
       "      <td>[kind]</td>\n",
       "    </tr>\n",
       "    <tr>\n",
       "      <th>4</th>\n",
       "      <td>FreeCompliments</td>\n",
       "      <td>HAAAANS</td>\n",
       "      <td>That's your foot hold to climb the fucking mou...</td>\n",
       "      <td>1</td>\n",
       "      <td>[foot]</td>\n",
       "    </tr>\n",
       "  </tbody>\n",
       "</table>\n",
       "</div>"
      ],
      "text/plain": [
       "         subreddit    username  \\\n",
       "0  FreeCompliments   Golden161   \n",
       "1  FreeCompliments  beebeedoom   \n",
       "2  FreeCompliments   [deleted]   \n",
       "3  FreeCompliments  Orions_End   \n",
       "4  FreeCompliments     HAAAANS   \n",
       "\n",
       "                                             comment  sentiment    attributes  \n",
       "0  Stay away from people who can't put themselves...          1        [shoe]  \n",
       "1  If the answer is no, then you accept the hand ...          1        [hand]  \n",
       "2  I know you have it in you to face your current...          1  [head, face]  \n",
       "3               You serve our kind with great honor.          1        [kind]  \n",
       "4  That's your foot hold to climb the fucking mou...          1        [foot]  "
      ]
     },
     "execution_count": 44,
     "metadata": {},
     "output_type": "execute_result"
    }
   ],
   "source": [
    "overall_df = overall_df.drop(['attribute_1', 'attribute_2'], axis=1)\n",
    "overall_df['attributes'] = attributes_fixed\n",
    "overall_df.head()"
   ]
  },
  {
   "cell_type": "markdown",
   "id": "561fa72b",
   "metadata": {
    "id": "561fa72b"
   },
   "source": [
    "This corresponds to the final, cleaned dataset. Let's make sure that no *null*s are still present:"
   ]
  },
  {
   "cell_type": "code",
   "execution_count": null,
   "id": "d490ca3b",
   "metadata": {
    "id": "d490ca3b"
   },
   "outputs": [],
   "source": []
  },
  {
   "cell_type": "code",
   "execution_count": null,
   "id": "f7afd341",
   "metadata": {
    "id": "f7afd341",
    "outputId": "0cc687da-dae1-471c-f368-b65bc0fd57e8"
   },
   "outputs": [
    {
     "data": {
      "text/plain": [
       "subreddit     0\n",
       "username      0\n",
       "comment       0\n",
       "sentiment     0\n",
       "attributes    0\n",
       "dtype: int64"
      ]
     },
     "execution_count": 47,
     "metadata": {},
     "output_type": "execute_result"
    }
   ],
   "source": [
    "overall_df.isna().sum()"
   ]
  },
  {
   "cell_type": "markdown",
   "id": "5a1af5c5",
   "metadata": {
    "id": "5a1af5c5"
   },
   "source": [
    "Let's look at the different attributes that this dataset contains."
   ]
  },
  {
   "cell_type": "code",
   "execution_count": null,
   "id": "939bdb39",
   "metadata": {
    "id": "939bdb39",
    "outputId": "06a74c12-1759-4fe6-dc59-2ba991238a11",
    "scrolled": true
   },
   "outputs": [
    {
     "data": {
      "text/plain": [
       "face           17695\n",
       "hair           15730\n",
       "eye            13999\n",
       "smile           8756\n",
       "head            6327\n",
       "eyebrow         3980\n",
       "kind            3917\n",
       "nose            3858\n",
       "ass             2844\n",
       "skin            2689\n",
       "forehead        2672\n",
       "body            2517\n",
       "beard           2484\n",
       "chin            2482\n",
       "lip             2339\n",
       "tooth           2294\n",
       "hand            2069\n",
       "dick            2056\n",
       "makeup          1787\n",
       "mouth           1716\n",
       "personality     1457\n",
       "haircut         1412\n",
       "heart           1383\n",
       "finger          1209\n",
       "dress           1185\n",
       "back            1122\n",
       "neck            1122\n",
       "happiness       1086\n",
       "weight          1086\n",
       "ear             1077\n",
       "gender          1058\n",
       "figure          1048\n",
       "tit             1017\n",
       "hairline        1006\n",
       "soul             868\n",
       "arm              857\n",
       "nail             745\n",
       "mustache         716\n",
       "asshole          695\n",
       "chest            676\n",
       "cheek            666\n",
       "virginity        663\n",
       "penis            644\n",
       "pussy            642\n",
       "appearance       636\n",
       "foot             629\n",
       "leg              627\n",
       "cock             625\n",
       "chromosome       604\n",
       "piercing         569\n",
       "vagina           558\n",
       "virgin           557\n",
       "acne             541\n",
       "shoulder         474\n",
       "frame            451\n",
       "kindness         444\n",
       "brow             433\n",
       "bone             393\n",
       "hairstyle        380\n",
       "boob             376\n",
       "freckle          370\n",
       "butt             369\n",
       "jawline          361\n",
       "complexion       332\n",
       "shoe             329\n",
       "race             292\n",
       "jacket           290\n",
       "eyeliner         287\n",
       "thumb            286\n",
       "humor            282\n",
       "wrist            255\n",
       "nipple           246\n",
       "nostril          241\n",
       "muscle           240\n",
       "breast           235\n",
       "dimple           231\n",
       "curl             230\n",
       "moustache        206\n",
       "cleavage         178\n",
       "fingernail       173\n",
       "unibrow          167\n",
       "eyelash          164\n",
       "thigh            158\n",
       "skull            157\n",
       "grin             153\n",
       "throat           153\n",
       "earring          141\n",
       "goatee           115\n",
       "testicle         104\n",
       "stache            99\n",
       "toupee            72\n",
       "midget            72\n",
       "hairdo            61\n",
       "sideburn          50\n",
       "jewfro             7\n",
       "goatie             3\n",
       "teeth              3\n",
       "dimples            1\n",
       "dtype: int64"
      ]
     },
     "metadata": {},
     "output_type": "display_data"
    }
   ],
   "source": [
    "from IPython.display import display\n",
    "\n",
    "list_of_attributes = np.concatenate(overall_df['attributes'].values)\n",
    "\n",
    "with pd.option_context('display.max_rows', None):\n",
    "    display(pd.value_counts(list_of_attributes))"
   ]
  },
  {
   "cell_type": "markdown",
   "id": "8971ef1d",
   "metadata": {
    "id": "8971ef1d"
   },
   "source": [
    "We can see that most of them are related to phsyical features. As such, this dataset is lacking traits related to personality that users might end up criticizing. This might prove being troublesome in the actual application."
   ]
  },
  {
   "cell_type": "markdown",
   "id": "b49ccc8c",
   "metadata": {
    "id": "b49ccc8c"
   },
   "source": [
    "Finally, let's save the cleaned dataset in a new file so that we can easily use this data in the modelling section."
   ]
  },
  {
   "cell_type": "code",
   "execution_count": null,
   "id": "1a8383db",
   "metadata": {
    "id": "1a8383db"
   },
   "outputs": [],
   "source": [
    "overall_df.to_csv('../data/cleaned_overall.csv')"
   ]
  },
  {
   "cell_type": "markdown",
   "id": "634b36a3",
   "metadata": {
    "id": "634b36a3"
   },
   "source": [
    "## Dataset limitations\n",
    "\n",
    "As has been mentioned earlier, the dataset does not come without some limitations:\n",
    "1. Bias towards *Roasts*\n",
    "2. Lack of *personality* traits being criticized\n"
   ]
  },
  {
   "cell_type": "markdown",
   "id": "70a73c4f",
   "metadata": {
    "id": "70a73c4f"
   },
   "source": [
    "# Modeling"
   ]
  },
  {
   "cell_type": "markdown",
   "id": "8bfd0be7",
   "metadata": {
    "id": "8bfd0be7"
   },
   "source": [
    "In this section, we'll be building two machine learning models: one following the Support Vector Machine algorithm, and one following the Transformer technology (specifically, the BERT architecture). At the end, we compare both models and deploy the better one."
   ]
  },
  {
   "cell_type": "markdown",
   "id": "00e8238b",
   "metadata": {
    "id": "00e8238b"
   },
   "source": [
    "## SVM"
   ]
  },
  {
   "cell_type": "markdown",
   "id": "065017c3",
   "metadata": {
    "id": "065017c3"
   },
   "source": [
    "### SVMs Explained"
   ]
  },
  {
   "cell_type": "markdown",
   "id": "ff73f675",
   "metadata": {
    "id": "ff73f675"
   },
   "source": [
    "Before we implement the SVM, let's start by introducing what SVMs are.\n",
    "\n",
    "SVMs are short for *support vector machines*, and they are basically a mathematical algorithm th. They form linear boundaries between two classes and thus can be used for classification tasks. Therefore, they fall under the supervised machine learning classification algorithms.\n",
    "\n",
    "![SVM](https://www.ibm.com/docs/en/SS3RA7_sub/modeler_mainhelp_client_ddita/clementine/images/svm_transformed.jpg)\n"
   ]
  },
  {
   "cell_type": "markdown",
   "id": "2dfdd049",
   "metadata": {
    "id": "2dfdd049"
   },
   "source": [
    "The goal of an SVM is to find a hyperplane that separates the data into different classes with the largest possible margin. The margin is the distance between the hyperplane and the nearest data points from each class. In other words, the SVM tries to find the hyperplane that maximizes the distance between the closest data points of different classes.z"
   ]
  },
  {
   "cell_type": "markdown",
   "id": "cbe3061a",
   "metadata": {
    "id": "cbe3061a"
   },
   "source": [
    "![margin](https://miro.medium.com/v2/resize:fit:1280/format:webp/1*irg_jfdAar9gfe0j-Q04vQ.png)"
   ]
  },
  {
   "cell_type": "markdown",
   "id": "5f6dc086",
   "metadata": {
    "id": "5f6dc086"
   },
   "source": [
    "#### Data Transformations and The Kernel Trick"
   ]
  },
  {
   "cell_type": "markdown",
   "id": "cef04e45",
   "metadata": {
    "id": "cef04e45"
   },
   "source": [
    "If the data cannot be linearly separated as it is, SVMs try to *transform* the data to map it to a high-demnsional feature space. The idea behind this is that what is not linearly separable in, say, a 2D space can end up being separable in a 3D space, as seen below.\n",
    "\n",
    "![transformation](https://miro.medium.com/v2/resize:fit:1400/format:webp/1*zWzeMGyCc7KvGD9X8lwlnQ.png)"
   ]
  },
  {
   "cell_type": "markdown",
   "id": "e5a08b0b",
   "metadata": {
    "id": "e5a08b0b"
   },
   "source": [
    "As a simpler case, let's look at a transformation from 1D to 2D:\n",
    "![2d_transform](https://miro.medium.com/v2/resize:fit:1400/format:webp/1*NwhqamsvzBkUlYwSAubv5g.png)"
   ]
  },
  {
   "cell_type": "markdown",
   "id": "aa04d803",
   "metadata": {
    "id": "aa04d803"
   },
   "source": [
    "As you can see in the first image, the data is not linearly separable. However, after applying the transformation ϕ(x) = x² and trying to separate the transformed data, we find that there exists a linear boundary between the different classes. The same thing applies to higher dimensions, but these cannot be clearly visualized on our 2D screens."
   ]
  },
  {
   "cell_type": "markdown",
   "id": "bc1c9147",
   "metadata": {
    "id": "bc1c9147"
   },
   "source": [
    "In order to transform the data, *every* point in the dataset should have this function applied onto. As you can think, when we have a lot of features and a large dataset, applying transformations accross several different polynomial or other non-linear combinations can end up being quite costly in terms of time and computations. "
   ]
  },
  {
   "cell_type": "markdown",
   "id": "f1674863",
   "metadata": {
    "id": "f1674863"
   },
   "source": [
    "This is where the **kernel trick** comes into play. The “trick” is that kernel methods represent the data only through a set of pairwise similarity comparisons between the original data observations x (with the original coordinates in the lower dimensional space), instead of explicitly applying the transformations ϕ(x) and representing the data by these transformed coordinates in the higher dimensional feature space.\n",
    "\n",
    "In other words, SVM doesn't need the actual vectors to work its magic, it actually can get by only with the dot products between them. This means that we can sidestep the expensive calculations of the new dimensions."
   ]
  },
  {
   "cell_type": "markdown",
   "id": "60e18a7c",
   "metadata": {
    "id": "60e18a7c"
   },
   "source": [
    "Several *kernel types* exist, from which a specific function can be derived. Generally speaking, the ones below are widely used:\n",
    "1. **Linear:** The linear kernel is the simplest SVM kernel and is commonly used for linearly separable data. It works by mapping the data to a higher-dimensional space using a linear function. The linear kernel is the fastest of all SVM kernels, making it suitable for large datasets.\n",
    "\n",
    "2. **Polynomial:** The polynomial kernel is used for non-linear data that can be separated by curved lines. It works by mapping the data to a higher-dimensional space using a polynomial function.\n",
    "\n",
    "3. **Radial basis function (RBF):** The RBF kernel is used for non-linear data that cannot be separated by a straight line. It works by mapping the data to an infinite-dimensional space using a Gaussian function.\n",
    "\n",
    "4. **Sigmoid:** The sigmoid kernel is used for non-linear data that can be separated by a curved line. It works by mapping the data to a higher-dimensional space using a sigmoid function.\n",
    "\n",
    "We won't get into the details of the mathematics behind them, as they are out of the scope of this section."
   ]
  },
  {
   "cell_type": "markdown",
   "id": "23564a00",
   "metadata": {
    "id": "23564a00"
   },
   "source": [
    "#### Advantages"
   ]
  },
  {
   "cell_type": "markdown",
   "id": "c2caf784",
   "metadata": {
    "id": "c2caf784"
   },
   "source": [
    "Generally speaking, SVMs are used because of their higher speed and better performance when the dataset being used is small. For instance, while training a large Deep Learning Model requires a substantial dataset to achieve good accuracies, SVMs only require a dataset with a couple of thousand of entries.\n",
    "\n",
    "This makes the algorithm very suitable for text classification problems, hence their use in this project. Traditionally speaking, since NLP classifiers use thousands of features (one for every word in the case of using word frequencies to represent sentences), an RBF would lead to overfitting and as such scientists use linear kernels in text classification."
   ]
  },
  {
   "cell_type": "markdown",
   "id": "d8ce0d92",
   "metadata": {
    "id": "d8ce0d92"
   },
   "source": [
    "### Implementation"
   ]
  },
  {
   "cell_type": "code",
   "execution_count": null,
   "id": "f2e1b21c",
   "metadata": {
    "id": "f2e1b21c"
   },
   "outputs": [],
   "source": [
    "import pandas as pd\n",
    "import numpy as np"
   ]
  },
  {
   "cell_type": "code",
   "execution_count": null,
   "id": "035d21c2",
   "metadata": {
    "id": "035d21c2",
    "outputId": "cb4790fd-a80b-464a-d763-702353a02f56"
   },
   "outputs": [
    {
     "data": {
      "text/html": [
       "<div>\n",
       "<style scoped>\n",
       "    .dataframe tbody tr th:only-of-type {\n",
       "        vertical-align: middle;\n",
       "    }\n",
       "\n",
       "    .dataframe tbody tr th {\n",
       "        vertical-align: top;\n",
       "    }\n",
       "\n",
       "    .dataframe thead th {\n",
       "        text-align: right;\n",
       "    }\n",
       "</style>\n",
       "<table border=\"1\" class=\"dataframe\">\n",
       "  <thead>\n",
       "    <tr style=\"text-align: right;\">\n",
       "      <th></th>\n",
       "      <th>Unnamed: 0</th>\n",
       "      <th>subreddit</th>\n",
       "      <th>username</th>\n",
       "      <th>comment</th>\n",
       "      <th>sentiment</th>\n",
       "      <th>attributes</th>\n",
       "    </tr>\n",
       "  </thead>\n",
       "  <tbody>\n",
       "    <tr>\n",
       "      <th>0</th>\n",
       "      <td>0</td>\n",
       "      <td>FreeCompliments</td>\n",
       "      <td>Golden161</td>\n",
       "      <td>Stay away from people who can't put themselves...</td>\n",
       "      <td>1</td>\n",
       "      <td>['shoe']</td>\n",
       "    </tr>\n",
       "    <tr>\n",
       "      <th>1</th>\n",
       "      <td>1</td>\n",
       "      <td>FreeCompliments</td>\n",
       "      <td>beebeedoom</td>\n",
       "      <td>If the answer is no, then you accept the hand ...</td>\n",
       "      <td>1</td>\n",
       "      <td>['hand']</td>\n",
       "    </tr>\n",
       "    <tr>\n",
       "      <th>2</th>\n",
       "      <td>2</td>\n",
       "      <td>FreeCompliments</td>\n",
       "      <td>[deleted]</td>\n",
       "      <td>I know you have it in you to face your current...</td>\n",
       "      <td>1</td>\n",
       "      <td>['head' 'face']</td>\n",
       "    </tr>\n",
       "    <tr>\n",
       "      <th>3</th>\n",
       "      <td>3</td>\n",
       "      <td>FreeCompliments</td>\n",
       "      <td>Orions_End</td>\n",
       "      <td>You serve our kind with great honor.</td>\n",
       "      <td>1</td>\n",
       "      <td>['kind']</td>\n",
       "    </tr>\n",
       "    <tr>\n",
       "      <th>4</th>\n",
       "      <td>4</td>\n",
       "      <td>FreeCompliments</td>\n",
       "      <td>HAAAANS</td>\n",
       "      <td>That's your foot hold to climb the fucking mou...</td>\n",
       "      <td>1</td>\n",
       "      <td>['foot']</td>\n",
       "    </tr>\n",
       "  </tbody>\n",
       "</table>\n",
       "</div>"
      ],
      "text/plain": [
       "   Unnamed: 0        subreddit    username  \\\n",
       "0           0  FreeCompliments   Golden161   \n",
       "1           1  FreeCompliments  beebeedoom   \n",
       "2           2  FreeCompliments   [deleted]   \n",
       "3           3  FreeCompliments  Orions_End   \n",
       "4           4  FreeCompliments     HAAAANS   \n",
       "\n",
       "                                             comment  sentiment  \\\n",
       "0  Stay away from people who can't put themselves...          1   \n",
       "1  If the answer is no, then you accept the hand ...          1   \n",
       "2  I know you have it in you to face your current...          1   \n",
       "3               You serve our kind with great honor.          1   \n",
       "4  That's your foot hold to climb the fucking mou...          1   \n",
       "\n",
       "        attributes  \n",
       "0         ['shoe']  \n",
       "1         ['hand']  \n",
       "2  ['head' 'face']  \n",
       "3         ['kind']  \n",
       "4         ['foot']  "
      ]
     },
     "execution_count": 76,
     "metadata": {},
     "output_type": "execute_result"
    }
   ],
   "source": [
    "cleaned_df = pd.read_csv('../data/cleaned_overall.csv')\n",
    "cleaned_df.head()"
   ]
  },
  {
   "cell_type": "markdown",
   "id": "b6ae83f0",
   "metadata": {
    "id": "b6ae83f0"
   },
   "source": [
    "Next, we check extract the features and the labels. We also split the data into training and testing sets. Note that we pass in *stratify=y* to ensure that the training and testing sets preserve the initial segmentation of the data (to prevent a certain set from having a considerable bias towards a certain label in comparison to the other set)."
   ]
  },
  {
   "cell_type": "code",
   "execution_count": null,
   "id": "bca5e392",
   "metadata": {
    "id": "bca5e392"
   },
   "outputs": [],
   "source": [
    "from sklearn.model_selection import train_test_split\n",
    "\n",
    "X, y = cleaned_df['comment'], cleaned_df['sentiment']\n",
    "\n",
    "X_train, X_test, y_train, y_test = train_test_split(X, y, test_size=0.2, stratify=y, shuffle=True)"
   ]
  },
  {
   "cell_type": "markdown",
   "id": "df0dd76a",
   "metadata": {
    "id": "df0dd76a"
   },
   "source": [
    "Let's take a look at the distribution of the data in each of the sets:"
   ]
  },
  {
   "cell_type": "code",
   "execution_count": null,
   "id": "2a19d039",
   "metadata": {
    "id": "2a19d039",
    "outputId": "abfa4c33-a09f-4d23-8b30-3165fe02ddf9"
   },
   "outputs": [
    {
     "name": "stdout",
     "output_type": "stream",
     "text": [
      "0    54582\n",
      "1    34222\n",
      "Name: sentiment, dtype: int64\n",
      "0    13646\n",
      "1     8556\n",
      "Name: sentiment, dtype: int64\n"
     ]
    }
   ],
   "source": [
    "print(pd.value_counts(y_train))\n",
    "print(pd.value_counts(y_test))"
   ]
  },
  {
   "cell_type": "markdown",
   "id": "b8331b57",
   "metadata": {
    "id": "b8331b57"
   },
   "source": [
    "Next, we have to encode the text into feature vectors. To do so, we will use the *Tfidf* vectorizer available in sklearn.\n",
    "\n",
    "For those who don't know, Term Frequency-Inverse Document Frequency is a method that is used to represent text, where each document is represented as a vector of its weighted term frequencies. The term frequency is the number of times a term occurs in a document, while the inverse document frequency measures the rarity of the term across the corpus. The TF-IDF score for a term in a document of the product is its TF and IDF values."
   ]
  },
  {
   "cell_type": "code",
   "execution_count": null,
   "id": "6c2393c7",
   "metadata": {
    "id": "6c2393c7"
   },
   "outputs": [],
   "source": [
    "from sklearn.feature_extraction.text import TfidfVectorizer\n",
    "from sklearn.svm import LinearSVC\n",
    "from sklearn.model_selection import KFold, cross_val_score\n",
    "\n",
    "tfidf_vectorizer = TfidfVectorizer()\n",
    "kf = KFold(n_splits=3, shuffle=True, random_state=42)"
   ]
  },
  {
   "cell_type": "markdown",
   "id": "9f094597",
   "metadata": {
    "id": "9f094597"
   },
   "source": [
    "We build a pipeline that includes two main steps: the TfidfVectorizer processing step, and then the SVM classifier.\n",
    "\n",
    "In order to determine the best values for the parameter *C* of the SVM, we will do a Grid Search that checks tries different values of C and stores the best estimator at the end."
   ]
  },
  {
   "cell_type": "code",
   "execution_count": null,
   "id": "8621eb7e",
   "metadata": {
    "id": "8621eb7e"
   },
   "outputs": [],
   "source": [
    "from sklearn.pipeline import Pipeline\n",
    "from sklearn.model_selection import GridSearchCV\n",
    "\n",
    "parameters = {'svm__C': [0.1, 1, 10, 100, 1000]}\n",
    "\n",
    "steps = [('vectorizer', TfidfVectorizer()), ('svm', LinearSVC())]\n",
    "pipeline = Pipeline(steps=steps)"
   ]
  },
  {
   "cell_type": "code",
   "execution_count": null,
   "id": "67490a2d",
   "metadata": {
    "id": "67490a2d",
    "scrolled": false
   },
   "outputs": [],
   "source": [
    "grid = GridSearchCV(pipeline, parameters, cv=kf)"
   ]
  },
  {
   "cell_type": "code",
   "execution_count": null,
   "id": "45351276",
   "metadata": {
    "id": "45351276",
    "outputId": "cccbd9a9-ff2c-4f0a-dc37-aab26dbf1171"
   },
   "outputs": [
    {
     "name": "stderr",
     "output_type": "stream",
     "text": [
      "C:\\Programming\\Python310\\lib\\site-packages\\sklearn\\svm\\_base.py:1225: ConvergenceWarning: Liblinear failed to converge, increase the number of iterations.\n",
      "  warnings.warn(\n",
      "C:\\Programming\\Python310\\lib\\site-packages\\sklearn\\svm\\_base.py:1225: ConvergenceWarning: Liblinear failed to converge, increase the number of iterations.\n",
      "  warnings.warn(\n",
      "C:\\Programming\\Python310\\lib\\site-packages\\sklearn\\svm\\_base.py:1225: ConvergenceWarning: Liblinear failed to converge, increase the number of iterations.\n",
      "  warnings.warn(\n",
      "C:\\Programming\\Python310\\lib\\site-packages\\sklearn\\svm\\_base.py:1225: ConvergenceWarning: Liblinear failed to converge, increase the number of iterations.\n",
      "  warnings.warn(\n",
      "C:\\Programming\\Python310\\lib\\site-packages\\sklearn\\svm\\_base.py:1225: ConvergenceWarning: Liblinear failed to converge, increase the number of iterations.\n",
      "  warnings.warn(\n",
      "C:\\Programming\\Python310\\lib\\site-packages\\sklearn\\svm\\_base.py:1225: ConvergenceWarning: Liblinear failed to converge, increase the number of iterations.\n",
      "  warnings.warn(\n"
     ]
    }
   ],
   "source": [
    "grid = grid.fit(X_train, y_train)"
   ]
  },
  {
   "cell_type": "markdown",
   "id": "fe575df5",
   "metadata": {
    "id": "fe575df5"
   },
   "source": [
    "Now that the grid search was completed, we can look at the different models done."
   ]
  },
  {
   "cell_type": "code",
   "execution_count": null,
   "id": "48cf52f4",
   "metadata": {
    "id": "48cf52f4",
    "outputId": "0cfc4d9a-2115-42f9-a5e6-d8c103c30751"
   },
   "outputs": [
    {
     "name": "stdout",
     "output_type": "stream",
     "text": [
      "Average cv score for C=0.1: 0.92\n",
      "Average cv score for C=1: 0.93\n",
      "Average cv score for C=10: 0.92\n",
      "Average cv score for C=100: 0.90\n",
      "Average cv score for C=1000: 0.88\n",
      "\n",
      "Best Parameters: {'svm__C': 1}\n",
      "Best Test Score: 0.93\n",
      "\n",
      "Score on test set: 0.93\n"
     ]
    }
   ],
   "source": [
    "for param, score in zip([list(x.values())[0] for x in grid.cv_results_['params']], grid.cv_results_['mean_test_score']):\n",
    "    print(f\"Average cv score for C={param}: {score:.2f}\")\n",
    "\n",
    "print()\n",
    "print(f\"Best Parameters: {grid.best_params_}\")\n",
    "print(f\"Best Test Score: {grid.best_score_:.2f}\")\n",
    "print()\n",
    "print(f\"Score on test set: {grid.score(X_test, y_test):.2f}\")"
   ]
  },
  {
   "cell_type": "code",
   "execution_count": null,
   "id": "50a9790d",
   "metadata": {
    "id": "50a9790d",
    "outputId": "1a4b350b-4e04-45fb-fca5-66d0f1b77c33"
   },
   "outputs": [
    {
     "data": {
      "text/plain": [
       "array([0], dtype=int64)"
      ]
     },
     "execution_count": 167,
     "metadata": {},
     "output_type": "execute_result"
    }
   ],
   "source": [
    "test_inputs = [\"\"]\n",
    "grid.predict(test_inputs)"
   ]
  },
  {
   "cell_type": "markdown",
   "id": "36be8a9c",
   "metadata": {},
   "source": [
    "**Take from the software precision, recall...**"
   ]
  },
  {
   "cell_type": "markdown",
   "id": "4201f4bb",
   "metadata": {
    "id": "4201f4bb"
   },
   "source": [
    "## BERT"
   ]
  },
  {
   "cell_type": "markdown",
   "id": "1921a91b",
   "metadata": {
    "id": "1921a91b"
   },
   "source": [
    "Next, we'll be talking about Transformers, and more specifically, BERT, the Bidirectional Encoder Representations from Transformers.\n",
    "\n",
    "But first, let's explain what Transformers are."
   ]
  },
  {
   "cell_type": "markdown",
   "id": "616978c1",
   "metadata": {
    "id": "616978c1"
   },
   "source": [
    "### What are Transformers?"
   ]
  },
  {
   "cell_type": "markdown",
   "id": "7714fe0e",
   "metadata": {
    "id": "7714fe0e"
   },
   "source": [
    "Transformers are a class of neural network architectures that have revolutionized the field of natural language processing (NLP). Unlike traditional NLP models that rely on hand-crafted features and task-specific architectures, transformer models use self-attention mechanisms to automatically learn and extract relevant features from raw text data.\n",
    "\n",
    "At a high level, transformers work by processing the input text through multiple layers of self-attention and feedforward neural networks. The self-attention mechanism allows the model to weigh the importance of each word in the input sentence when computing the output for each word, which allows the model to capture complex relationships between different parts of the input text.\n",
    "\n",
    "The transformer architecture was first introduced in the paper \"Attention is All You Need\" by Vaswani et al. in 2017, and has since become the standard approach for many NLP tasks, such as machine translation, sentiment analysis, and text classification.\n",
    "\n",
    "One of the key advantages of transformers is their ability to handle variable-length input sequences, which is a common problem in NLP. Additionally, transformers can be pre-trained on large amounts of unlabeled data using techniques such as masked language modeling or next sentence prediction, which can significantly improve their performance on downstream tasks."
   ]
  },
  {
   "cell_type": "markdown",
   "id": "46709626",
   "metadata": {
    "id": "46709626"
   },
   "source": [
    "Some popular transformer models include BERT (Bidirectional Encoder Representations from Transformers), GPT-3 (Generative Pre-trained Transformer 3), and T5 (Text-to-Text Transfer Transformer). These models have achieved state-of-the-art performance on a wide range of NLP benchmarks, and have enabled a new wave of applications in areas such as chatbots, question answering, and language generation."
   ]
  },
  {
   "cell_type": "markdown",
   "id": "0188093c",
   "metadata": {
    "id": "0188093c"
   },
   "source": [
    "### What is BERT?"
   ]
  },
  {
   "cell_type": "markdown",
   "id": "2bbf3c3f",
   "metadata": {
    "id": "2bbf3c3f"
   },
   "source": [
    "In this project, we will be working primarily with BERT, the Bi-directional Encoder Representations from Transformers. BERT is a pre-trained deep learning model for natural language processing (NLP). It was introduced by Google researchers in 2018 and has since been widely used in various NLP tasks, including text classification, question answering, and language translation.\n",
    "\n",
    "The key innovation of BERT is its use of a transformer-based architecture, which allows it to capture contextual relationships between words in a sentence. Unlike traditional language models that process text in a linear fashion, BERT processes it in a bidirectional manner, allowing it to understand the meaning of words based on their surrounding context.\n",
    "\n",
    "BERT is pre-trained on a large corpus of text, such as Wikipedia or the entire BookCorpus, and can then be fine-tuned on specific NLP tasks with much less data than is required to train a model from scratch. This fine-tuning process involves replacing the last layer of the model and training it on a smaller dataset specific to the task at hand.\n",
    "\n",
    "One of the key features of BERT is its ability to handle tasks that require understanding the relationship between two sentences, such as question answering and natural language inference. It accomplishes this by including a special \"CLS\" token at the beginning of each input sequence, which is used to represent the entire sequence in downstream tasks.\n",
    "\n",
    "Overall, BERT has been shown to achieve state-of-the-art performance on a wide range of NLP tasks, and its ability to capture complex linguistic relationships has made it a popular choice for many NLP applications."
   ]
  },
  {
   "cell_type": "markdown",
   "id": "ef47b211",
   "metadata": {
    "id": "ef47b211"
   },
   "source": [
    "### Fine-Tuning a BERT Model"
   ]
  },
  {
   "cell_type": "code",
   "execution_count": 1,
   "id": "3ce9b4e6",
   "metadata": {
    "executionInfo": {
     "elapsed": 5833,
     "status": "ok",
     "timestamp": 1680455384451,
     "user": {
      "displayName": "antonio chedid",
      "userId": "10125568832922905654"
     },
     "user_tz": -180
    },
    "id": "3ce9b4e6"
   },
   "outputs": [],
   "source": [
    "import tensorflow as tf\n",
    "import tensorflow_hub as hub\n",
    "import tensorflow_text as text\n",
    "from official.nlp import optimization\n",
    "import matplotlib.pyplot as plt\n",
    "import pandas as pd\n",
    "import numpy as np\n",
    "import os\n",
    "import shutil"
   ]
  },
  {
   "cell_type": "code",
   "execution_count": 4,
   "id": "K24BP5J77lA2",
   "metadata": {
    "colab": {
     "base_uri": "https://localhost:8080/",
     "height": 35
    },
    "executionInfo": {
     "elapsed": 806,
     "status": "ok",
     "timestamp": 1680455393990,
     "user": {
      "displayName": "antonio chedid",
      "userId": "10125568832922905654"
     },
     "user_tz": -180
    },
    "id": "K24BP5J77lA2",
    "outputId": "7f960415-79a1-4650-fce8-79beff8014d8"
   },
   "outputs": [
    {
     "data": {
      "application/vnd.google.colaboratory.intrinsic+json": {
       "type": "string"
      },
      "text/plain": [
       "'/content/drive/MyDrive/compliment_analysis/notebooks'"
      ]
     },
     "execution_count": 4,
     "metadata": {},
     "output_type": "execute_result"
    }
   ],
   "source": [
    "# Only run if on Colab\n",
    "\"\"\"\n",
    "os.chdir('/content/drive/MyDrive/compliment_analysis/notebooks')\n",
    "os.getcwd()\n",
    "\"\"\""
   ]
  },
  {
   "cell_type": "code",
   "execution_count": 5,
   "id": "412aaf51",
   "metadata": {
    "colab": {
     "base_uri": "https://localhost:8080/",
     "height": 191
    },
    "executionInfo": {
     "elapsed": 3197,
     "status": "ok",
     "timestamp": 1680455398624,
     "user": {
      "displayName": "antonio chedid",
      "userId": "10125568832922905654"
     },
     "user_tz": -180
    },
    "id": "412aaf51",
    "outputId": "86de2174-8f72-41d1-e2ef-779433e20d31"
   },
   "outputs": [
    {
     "data": {
      "text/html": [
       "\n",
       "  <div id=\"df-b102e9be-0f8f-449b-b901-bdbc97d58fc9\">\n",
       "    <div class=\"colab-df-container\">\n",
       "      <div>\n",
       "<style scoped>\n",
       "    .dataframe tbody tr th:only-of-type {\n",
       "        vertical-align: middle;\n",
       "    }\n",
       "\n",
       "    .dataframe tbody tr th {\n",
       "        vertical-align: top;\n",
       "    }\n",
       "\n",
       "    .dataframe thead th {\n",
       "        text-align: right;\n",
       "    }\n",
       "</style>\n",
       "<table border=\"1\" class=\"dataframe\">\n",
       "  <thead>\n",
       "    <tr style=\"text-align: right;\">\n",
       "      <th></th>\n",
       "      <th>subreddit</th>\n",
       "      <th>username</th>\n",
       "      <th>comment</th>\n",
       "      <th>sentiment</th>\n",
       "      <th>attributes</th>\n",
       "    </tr>\n",
       "  </thead>\n",
       "  <tbody>\n",
       "    <tr>\n",
       "      <th>0</th>\n",
       "      <td>FreeCompliments</td>\n",
       "      <td>Golden161</td>\n",
       "      <td>Stay away from people who can't put themselves...</td>\n",
       "      <td>1</td>\n",
       "      <td>['shoe']</td>\n",
       "    </tr>\n",
       "    <tr>\n",
       "      <th>1</th>\n",
       "      <td>FreeCompliments</td>\n",
       "      <td>beebeedoom</td>\n",
       "      <td>If the answer is no, then you accept the hand ...</td>\n",
       "      <td>1</td>\n",
       "      <td>['hand']</td>\n",
       "    </tr>\n",
       "  </tbody>\n",
       "</table>\n",
       "</div>\n",
       "      <button class=\"colab-df-convert\" onclick=\"convertToInteractive('df-b102e9be-0f8f-449b-b901-bdbc97d58fc9')\"\n",
       "              title=\"Convert this dataframe to an interactive table.\"\n",
       "              style=\"display:none;\">\n",
       "        \n",
       "  <svg xmlns=\"http://www.w3.org/2000/svg\" height=\"24px\"viewBox=\"0 0 24 24\"\n",
       "       width=\"24px\">\n",
       "    <path d=\"M0 0h24v24H0V0z\" fill=\"none\"/>\n",
       "    <path d=\"M18.56 5.44l.94 2.06.94-2.06 2.06-.94-2.06-.94-.94-2.06-.94 2.06-2.06.94zm-11 1L8.5 8.5l.94-2.06 2.06-.94-2.06-.94L8.5 2.5l-.94 2.06-2.06.94zm10 10l.94 2.06.94-2.06 2.06-.94-2.06-.94-.94-2.06-.94 2.06-2.06.94z\"/><path d=\"M17.41 7.96l-1.37-1.37c-.4-.4-.92-.59-1.43-.59-.52 0-1.04.2-1.43.59L10.3 9.45l-7.72 7.72c-.78.78-.78 2.05 0 2.83L4 21.41c.39.39.9.59 1.41.59.51 0 1.02-.2 1.41-.59l7.78-7.78 2.81-2.81c.8-.78.8-2.07 0-2.86zM5.41 20L4 18.59l7.72-7.72 1.47 1.35L5.41 20z\"/>\n",
       "  </svg>\n",
       "      </button>\n",
       "      \n",
       "  <style>\n",
       "    .colab-df-container {\n",
       "      display:flex;\n",
       "      flex-wrap:wrap;\n",
       "      gap: 12px;\n",
       "    }\n",
       "\n",
       "    .colab-df-convert {\n",
       "      background-color: #E8F0FE;\n",
       "      border: none;\n",
       "      border-radius: 50%;\n",
       "      cursor: pointer;\n",
       "      display: none;\n",
       "      fill: #1967D2;\n",
       "      height: 32px;\n",
       "      padding: 0 0 0 0;\n",
       "      width: 32px;\n",
       "    }\n",
       "\n",
       "    .colab-df-convert:hover {\n",
       "      background-color: #E2EBFA;\n",
       "      box-shadow: 0px 1px 2px rgba(60, 64, 67, 0.3), 0px 1px 3px 1px rgba(60, 64, 67, 0.15);\n",
       "      fill: #174EA6;\n",
       "    }\n",
       "\n",
       "    [theme=dark] .colab-df-convert {\n",
       "      background-color: #3B4455;\n",
       "      fill: #D2E3FC;\n",
       "    }\n",
       "\n",
       "    [theme=dark] .colab-df-convert:hover {\n",
       "      background-color: #434B5C;\n",
       "      box-shadow: 0px 1px 3px 1px rgba(0, 0, 0, 0.15);\n",
       "      filter: drop-shadow(0px 1px 2px rgba(0, 0, 0, 0.3));\n",
       "      fill: #FFFFFF;\n",
       "    }\n",
       "  </style>\n",
       "\n",
       "      <script>\n",
       "        const buttonEl =\n",
       "          document.querySelector('#df-b102e9be-0f8f-449b-b901-bdbc97d58fc9 button.colab-df-convert');\n",
       "        buttonEl.style.display =\n",
       "          google.colab.kernel.accessAllowed ? 'block' : 'none';\n",
       "\n",
       "        async function convertToInteractive(key) {\n",
       "          const element = document.querySelector('#df-b102e9be-0f8f-449b-b901-bdbc97d58fc9');\n",
       "          const dataTable =\n",
       "            await google.colab.kernel.invokeFunction('convertToInteractive',\n",
       "                                                     [key], {});\n",
       "          if (!dataTable) return;\n",
       "\n",
       "          const docLinkHtml = 'Like what you see? Visit the ' +\n",
       "            '<a target=\"_blank\" href=https://colab.research.google.com/notebooks/data_table.ipynb>data table notebook</a>'\n",
       "            + ' to learn more about interactive tables.';\n",
       "          element.innerHTML = '';\n",
       "          dataTable['output_type'] = 'display_data';\n",
       "          await google.colab.output.renderOutput(dataTable, element);\n",
       "          const docLink = document.createElement('div');\n",
       "          docLink.innerHTML = docLinkHtml;\n",
       "          element.appendChild(docLink);\n",
       "        }\n",
       "      </script>\n",
       "    </div>\n",
       "  </div>\n",
       "  "
      ],
      "text/plain": [
       "         subreddit    username  \\\n",
       "0  FreeCompliments   Golden161   \n",
       "1  FreeCompliments  beebeedoom   \n",
       "\n",
       "                                             comment  sentiment attributes  \n",
       "0  Stay away from people who can't put themselves...          1   ['shoe']  \n",
       "1  If the answer is no, then you accept the hand ...          1   ['hand']  "
      ]
     },
     "execution_count": 5,
     "metadata": {},
     "output_type": "execute_result"
    }
   ],
   "source": [
    "url = 'https://ai.stanford.edu/~amaas/data/sentiment/aclImdb_v1.tar.gz'\n",
    "\n",
    "compliment_data = pd.read_csv('../data/cleaned_overall.csv', index_col=0)\n",
    "compliment_data.head(2)"
   ]
  },
  {
   "cell_type": "code",
   "execution_count": 6,
   "id": "364892b7",
   "metadata": {
    "colab": {
     "base_uri": "https://localhost:8080/"
    },
    "executionInfo": {
     "elapsed": 427,
     "status": "ok",
     "timestamp": 1680455405017,
     "user": {
      "displayName": "antonio chedid",
      "userId": "10125568832922905654"
     },
     "user_tz": -180
    },
    "id": "364892b7",
    "outputId": "e7889bf3-da2d-448c-be54-8059e88322b4"
   },
   "outputs": [
    {
     "data": {
      "text/plain": [
       "((111006,), (111006,))"
      ]
     },
     "execution_count": 6,
     "metadata": {},
     "output_type": "execute_result"
    }
   ],
   "source": [
    "X, y = compliment_data['comment'], compliment_data['sentiment']\n",
    "X.shape, y.shape"
   ]
  },
  {
   "cell_type": "code",
   "execution_count": 7,
   "id": "39752c35",
   "metadata": {
    "executionInfo": {
     "elapsed": 3214,
     "status": "ok",
     "timestamp": 1680455410202,
     "user": {
      "displayName": "antonio chedid",
      "userId": "10125568832922905654"
     },
     "user_tz": -180
    },
    "id": "39752c35"
   },
   "outputs": [],
   "source": [
    "dataset = tf.data.Dataset.from_tensor_slices((X, y))"
   ]
  },
  {
   "cell_type": "code",
   "execution_count": 8,
   "id": "06cc1cba",
   "metadata": {
    "executionInfo": {
     "elapsed": 518,
     "status": "ok",
     "timestamp": 1680455412604,
     "user": {
      "displayName": "antonio chedid",
      "userId": "10125568832922905654"
     },
     "user_tz": -180
    },
    "id": "06cc1cba"
   },
   "outputs": [],
   "source": [
    "import math\n",
    "\n",
    "batch_size = 32\n",
    "seed = 42\n",
    "AUTOTUNE = tf.data.AUTOTUNE\n",
    "\n",
    "dataset_size = len(dataset)\n",
    "\n",
    "\n",
    "dataset = dataset.shuffle(buffer_size=int(dataset_size*1.5), seed=seed)\n",
    "\n",
    "# split into training, validation, and test sets\n",
    "train_size = math.floor(dataset_size * 0.7)\n",
    "val_size = math.floor(dataset_size * 0.1)\n",
    "test_size = dataset_size - val_size - train_size\n",
    "\n",
    "train_dataset = dataset.take(train_size)\n",
    "val_dataset = dataset.skip(train_size).take(val_size)\n",
    "test_dataset = dataset.skip(val_size + train_size)\n",
    "\n",
    "# batch the datasets\n",
    "train_dataset = train_dataset.batch(batch_size)\n",
    "val_dataset = val_dataset.batch(batch_size)\n",
    "test_dataset = test_dataset.batch(batch_size)\n",
    "\n",
    "# Class name\n",
    "class_names = ['Insult', 'Compliment']"
   ]
  },
  {
   "cell_type": "code",
   "execution_count": 9,
   "id": "72ac7104",
   "metadata": {
    "colab": {
     "base_uri": "https://localhost:8080/"
    },
    "executionInfo": {
     "elapsed": 448,
     "status": "ok",
     "timestamp": 1680455414980,
     "user": {
      "displayName": "antonio chedid",
      "userId": "10125568832922905654"
     },
     "user_tz": -180
    },
    "id": "72ac7104",
    "outputId": "99c3abce-4048-438b-e2cf-202182831445"
   },
   "outputs": [
    {
     "name": "stdout",
     "output_type": "stream",
     "text": [
      "Review: b'You look like the kind of friend that makes sure everyone is okay and is fun to hang with!'\n",
      "Label : 1\n",
      "Review: b'Your glasses are so thick they are bending your ears in different shapes'\n",
      "Label : 0\n",
      "Review: b\"You look like a meth heads kid who needs someone else's mum to pack them two lunches so you can have one.\"\n",
      "Label : 0\n"
     ]
    }
   ],
   "source": [
    "for text_batch, label_batch in train_dataset.take(1):\n",
    "  for i in range(3):\n",
    "    print(f'Review: {text_batch.numpy()[i]}')\n",
    "    label = label_batch.numpy()[i]\n",
    "    print(f'Label : {label}')"
   ]
  },
  {
   "cell_type": "code",
   "execution_count": 10,
   "id": "d51dc0c9",
   "metadata": {
    "executionInfo": {
     "elapsed": 4,
     "status": "ok",
     "timestamp": 1680455414981,
     "user": {
      "displayName": "antonio chedid",
      "userId": "10125568832922905654"
     },
     "user_tz": -180
    },
    "id": "d51dc0c9"
   },
   "outputs": [],
   "source": [
    "bert_model_name =  'small_bert/bert_en_uncased_L-2_H-128_A-2'\n",
    "\n",
    "map_name_to_handle = {\n",
    "    'bert_en_uncased_L-12_H-768_A-12':\n",
    "        'https://tfhub.dev/tensorflow/bert_en_uncased_L-12_H-768_A-12/3',\n",
    "    'bert_en_cased_L-12_H-768_A-12':\n",
    "        'https://tfhub.dev/tensorflow/bert_en_cased_L-12_H-768_A-12/3',\n",
    "    'bert_multi_cased_L-12_H-768_A-12':\n",
    "        'https://tfhub.dev/tensorflow/bert_multi_cased_L-12_H-768_A-12/3',\n",
    "    'small_bert/bert_en_uncased_L-2_H-128_A-2':\n",
    "        'https://tfhub.dev/tensorflow/small_bert/bert_en_uncased_L-2_H-128_A-2/1',\n",
    "    'small_bert/bert_en_uncased_L-2_H-256_A-4':\n",
    "        'https://tfhub.dev/tensorflow/small_bert/bert_en_uncased_L-2_H-256_A-4/1',\n",
    "    'small_bert/bert_en_uncased_L-2_H-512_A-8':\n",
    "        'https://tfhub.dev/tensorflow/small_bert/bert_en_uncased_L-2_H-512_A-8/1',\n",
    "    'small_bert/bert_en_uncased_L-2_H-768_A-12':\n",
    "        'https://tfhub.dev/tensorflow/small_bert/bert_en_uncased_L-2_H-768_A-12/1',\n",
    "    'small_bert/bert_en_uncased_L-4_H-128_A-2':\n",
    "        'https://tfhub.dev/tensorflow/small_bert/bert_en_uncased_L-4_H-128_A-2/1',\n",
    "    'small_bert/bert_en_uncased_L-4_H-256_A-4':\n",
    "        'https://tfhub.dev/tensorflow/small_bert/bert_en_uncased_L-4_H-256_A-4/1',\n",
    "    'small_bert/bert_en_uncased_L-4_H-512_A-8':\n",
    "        'https://tfhub.dev/tensorflow/small_bert/bert_en_uncased_L-4_H-512_A-8/1',\n",
    "    'small_bert/bert_en_uncased_L-4_H-768_A-12':\n",
    "        'https://tfhub.dev/tensorflow/small_bert/bert_en_uncased_L-4_H-768_A-12/1',\n",
    "    'small_bert/bert_en_uncased_L-6_H-128_A-2':\n",
    "        'https://tfhub.dev/tensorflow/small_bert/bert_en_uncased_L-6_H-128_A-2/1',\n",
    "    'small_bert/bert_en_uncased_L-6_H-256_A-4':\n",
    "        'https://tfhub.dev/tensorflow/small_bert/bert_en_uncased_L-6_H-256_A-4/1',\n",
    "    'small_bert/bert_en_uncased_L-6_H-512_A-8':\n",
    "        'https://tfhub.dev/tensorflow/small_bert/bert_en_uncased_L-6_H-512_A-8/1',\n",
    "    'small_bert/bert_en_uncased_L-6_H-768_A-12':\n",
    "        'https://tfhub.dev/tensorflow/small_bert/bert_en_uncased_L-6_H-768_A-12/1',\n",
    "    'small_bert/bert_en_uncased_L-8_H-128_A-2':\n",
    "        'https://tfhub.dev/tensorflow/small_bert/bert_en_uncased_L-8_H-128_A-2/1',\n",
    "    'small_bert/bert_en_uncased_L-8_H-256_A-4':\n",
    "        'https://tfhub.dev/tensorflow/small_bert/bert_en_uncased_L-8_H-256_A-4/1',\n",
    "    'small_bert/bert_en_uncased_L-8_H-512_A-8':\n",
    "        'https://tfhub.dev/tensorflow/small_bert/bert_en_uncased_L-8_H-512_A-8/1',\n",
    "    'small_bert/bert_en_uncased_L-8_H-768_A-12':\n",
    "        'https://tfhub.dev/tensorflow/small_bert/bert_en_uncased_L-8_H-768_A-12/1',\n",
    "    'small_bert/bert_en_uncased_L-10_H-128_A-2':\n",
    "        'https://tfhub.dev/tensorflow/small_bert/bert_en_uncased_L-10_H-128_A-2/1',\n",
    "    'small_bert/bert_en_uncased_L-10_H-256_A-4':\n",
    "        'https://tfhub.dev/tensorflow/small_bert/bert_en_uncased_L-10_H-256_A-4/1',\n",
    "    'small_bert/bert_en_uncased_L-10_H-512_A-8':\n",
    "        'https://tfhub.dev/tensorflow/small_bert/bert_en_uncased_L-10_H-512_A-8/1',\n",
    "    'small_bert/bert_en_uncased_L-10_H-768_A-12':\n",
    "        'https://tfhub.dev/tensorflow/small_bert/bert_en_uncased_L-10_H-768_A-12/1',\n",
    "    'small_bert/bert_en_uncased_L-12_H-128_A-2':\n",
    "        'https://tfhub.dev/tensorflow/small_bert/bert_en_uncased_L-12_H-128_A-2/1',\n",
    "    'small_bert/bert_en_uncased_L-12_H-256_A-4':\n",
    "        'https://tfhub.dev/tensorflow/small_bert/bert_en_uncased_L-12_H-256_A-4/1',\n",
    "    'small_bert/bert_en_uncased_L-12_H-512_A-8':\n",
    "        'https://tfhub.dev/tensorflow/small_bert/bert_en_uncased_L-12_H-512_A-8/1',\n",
    "    'small_bert/bert_en_uncased_L-12_H-768_A-12':\n",
    "        'https://tfhub.dev/tensorflow/small_bert/bert_en_uncased_L-12_H-768_A-12/1',\n",
    "    'albert_en_base':\n",
    "        'https://tfhub.dev/tensorflow/albert_en_base/2',\n",
    "    'electra_small':\n",
    "        'https://tfhub.dev/google/electra_small/2',\n",
    "    'electra_base':\n",
    "        'https://tfhub.dev/google/electra_base/2',\n",
    "    'experts_pubmed':\n",
    "        'https://tfhub.dev/google/experts/bert/pubmed/2',\n",
    "    'experts_wiki_books':\n",
    "        'https://tfhub.dev/google/experts/bert/wiki_books/2',\n",
    "    'talking-heads_base':\n",
    "        'https://tfhub.dev/tensorflow/talkheads_ggelu_bert_en_base/1',\n",
    "}\n",
    "\n",
    "map_model_to_preprocess = {\n",
    "    'bert_en_uncased_L-12_H-768_A-12':\n",
    "        'https://tfhub.dev/tensorflow/bert_en_uncased_preprocess/3',\n",
    "    'bert_en_cased_L-12_H-768_A-12':\n",
    "        'https://tfhub.dev/tensorflow/bert_en_cased_preprocess/3',\n",
    "    'small_bert/bert_en_uncased_L-2_H-128_A-2':\n",
    "        'https://tfhub.dev/tensorflow/bert_en_uncased_preprocess/3',\n",
    "    'small_bert/bert_en_uncased_L-2_H-256_A-4':\n",
    "        'https://tfhub.dev/tensorflow/bert_en_uncased_preprocess/3',\n",
    "    'small_bert/bert_en_uncased_L-2_H-512_A-8':\n",
    "        'https://tfhub.dev/tensorflow/bert_en_uncased_preprocess/3',\n",
    "    'small_bert/bert_en_uncased_L-2_H-768_A-12':\n",
    "        'https://tfhub.dev/tensorflow/bert_en_uncased_preprocess/3',\n",
    "    'small_bert/bert_en_uncased_L-4_H-128_A-2':\n",
    "        'https://tfhub.dev/tensorflow/bert_en_uncased_preprocess/3',\n",
    "    'small_bert/bert_en_uncased_L-4_H-256_A-4':\n",
    "        'https://tfhub.dev/tensorflow/bert_en_uncased_preprocess/3',\n",
    "    'small_bert/bert_en_uncased_L-4_H-512_A-8':\n",
    "        'https://tfhub.dev/tensorflow/bert_en_uncased_preprocess/3',\n",
    "    'small_bert/bert_en_uncased_L-4_H-768_A-12':\n",
    "        'https://tfhub.dev/tensorflow/bert_en_uncased_preprocess/3',\n",
    "    'small_bert/bert_en_uncased_L-6_H-128_A-2':\n",
    "        'https://tfhub.dev/tensorflow/bert_en_uncased_preprocess/3',\n",
    "    'small_bert/bert_en_uncased_L-6_H-256_A-4':\n",
    "        'https://tfhub.dev/tensorflow/bert_en_uncased_preprocess/3',\n",
    "    'small_bert/bert_en_uncased_L-6_H-512_A-8':\n",
    "        'https://tfhub.dev/tensorflow/bert_en_uncased_preprocess/3',\n",
    "    'small_bert/bert_en_uncased_L-6_H-768_A-12':\n",
    "        'https://tfhub.dev/tensorflow/bert_en_uncased_preprocess/3',\n",
    "    'small_bert/bert_en_uncased_L-8_H-128_A-2':\n",
    "        'https://tfhub.dev/tensorflow/bert_en_uncased_preprocess/3',\n",
    "    'small_bert/bert_en_uncased_L-8_H-256_A-4':\n",
    "        'https://tfhub.dev/tensorflow/bert_en_uncased_preprocess/3',\n",
    "    'small_bert/bert_en_uncased_L-8_H-512_A-8':\n",
    "        'https://tfhub.dev/tensorflow/bert_en_uncased_preprocess/3',\n",
    "    'small_bert/bert_en_uncased_L-8_H-768_A-12':\n",
    "        'https://tfhub.dev/tensorflow/bert_en_uncased_preprocess/3',\n",
    "    'small_bert/bert_en_uncased_L-10_H-128_A-2':\n",
    "        'https://tfhub.dev/tensorflow/bert_en_uncased_preprocess/3',\n",
    "    'small_bert/bert_en_uncased_L-10_H-256_A-4':\n",
    "        'https://tfhub.dev/tensorflow/bert_en_uncased_preprocess/3',\n",
    "    'small_bert/bert_en_uncased_L-10_H-512_A-8':\n",
    "        'https://tfhub.dev/tensorflow/bert_en_uncased_preprocess/3',\n",
    "    'small_bert/bert_en_uncased_L-10_H-768_A-12':\n",
    "        'https://tfhub.dev/tensorflow/bert_en_uncased_preprocess/3',\n",
    "    'small_bert/bert_en_uncased_L-12_H-128_A-2':\n",
    "        'https://tfhub.dev/tensorflow/bert_en_uncased_preprocess/3',\n",
    "    'small_bert/bert_en_uncased_L-12_H-256_A-4':\n",
    "        'https://tfhub.dev/tensorflow/bert_en_uncased_preprocess/3',\n",
    "    'small_bert/bert_en_uncased_L-12_H-512_A-8':\n",
    "        'https://tfhub.dev/tensorflow/bert_en_uncased_preprocess/3',\n",
    "    'small_bert/bert_en_uncased_L-12_H-768_A-12':\n",
    "        'https://tfhub.dev/tensorflow/bert_en_uncased_preprocess/3',\n",
    "    'bert_multi_cased_L-12_H-768_A-12':\n",
    "        'https://tfhub.dev/tensorflow/bert_multi_cased_preprocess/3',\n",
    "    'albert_en_base':\n",
    "        'https://tfhub.dev/tensorflow/albert_en_preprocess/3',\n",
    "    'electra_small':\n",
    "        'https://tfhub.dev/tensorflow/bert_en_uncased_preprocess/3',\n",
    "    'electra_base':\n",
    "        'https://tfhub.dev/tensorflow/bert_en_uncased_preprocess/3',\n",
    "    'experts_pubmed':\n",
    "        'https://tfhub.dev/tensorflow/bert_en_uncased_preprocess/3',\n",
    "    'experts_wiki_books':\n",
    "        'https://tfhub.dev/tensorflow/bert_en_uncased_preprocess/3',\n",
    "    'talking-heads_base':\n",
    "        'https://tfhub.dev/tensorflow/bert_en_uncased_preprocess/3',\n",
    "}\n"
   ]
  },
  {
   "cell_type": "code",
   "execution_count": 11,
   "id": "8fd55c8c",
   "metadata": {
    "colab": {
     "base_uri": "https://localhost:8080/"
    },
    "executionInfo": {
     "elapsed": 3,
     "status": "ok",
     "timestamp": 1680455417575,
     "user": {
      "displayName": "antonio chedid",
      "userId": "10125568832922905654"
     },
     "user_tz": -180
    },
    "id": "8fd55c8c",
    "outputId": "cedd6ba9-2d31-4ab4-b270-d632acc39941"
   },
   "outputs": [
    {
     "name": "stdout",
     "output_type": "stream",
     "text": [
      "BERT model selected           : https://tfhub.dev/tensorflow/small_bert/bert_en_uncased_L-2_H-128_A-2/1\n",
      "Preprocess model auto-selected: https://tfhub.dev/tensorflow/bert_en_uncased_preprocess/3\n"
     ]
    }
   ],
   "source": [
    "tfhub_handle_encoder = map_name_to_handle[bert_model_name]\n",
    "tfhub_handle_preprocess = map_model_to_preprocess[bert_model_name]\n",
    "\n",
    "print(f'BERT model selected           : {tfhub_handle_encoder}')\n",
    "print(f'Preprocess model auto-selected: {tfhub_handle_preprocess}')"
   ]
  },
  {
   "cell_type": "code",
   "execution_count": 12,
   "id": "a055e068",
   "metadata": {
    "executionInfo": {
     "elapsed": 3771,
     "status": "ok",
     "timestamp": 1680455421794,
     "user": {
      "displayName": "antonio chedid",
      "userId": "10125568832922905654"
     },
     "user_tz": -180
    },
    "id": "a055e068"
   },
   "outputs": [],
   "source": [
    "bert_preprocess_model = hub.KerasLayer(tfhub_handle_preprocess)"
   ]
  },
  {
   "cell_type": "code",
   "execution_count": 13,
   "id": "3d2cfbc9",
   "metadata": {
    "colab": {
     "base_uri": "https://localhost:8080/"
    },
    "executionInfo": {
     "elapsed": 4,
     "status": "ok",
     "timestamp": 1680455421795,
     "user": {
      "displayName": "antonio chedid",
      "userId": "10125568832922905654"
     },
     "user_tz": -180
    },
    "id": "3d2cfbc9",
    "outputId": "5315d487-732e-411e-edc3-25d8b34ab8be"
   },
   "outputs": [
    {
     "name": "stdout",
     "output_type": "stream",
     "text": [
      "Keys       : ['input_word_ids', 'input_mask', 'input_type_ids']\n",
      "Shape      : (1, 128)\n",
      "Word Ids   : [ 101 1045 2428 5632 2115 3441  999  102    0    0    0    0]\n",
      "Input Mask : [1 1 1 1 1 1 1 1 0 0 0 0]\n",
      "Type Ids   : [0 0 0 0 0 0 0 0 0 0 0 0]\n",
      "dict_keys(['input_word_ids', 'input_mask', 'input_type_ids'])\n"
     ]
    }
   ],
   "source": [
    "text_test = ['I really enjoyed your stories!']\n",
    "text_preprocessed = bert_preprocess_model(text_test)\n",
    "\n",
    "print(f'Keys       : {list(text_preprocessed.keys())}')\n",
    "print(f'Shape      : {text_preprocessed[\"input_word_ids\"].shape}')\n",
    "print(f'Word Ids   : {text_preprocessed[\"input_word_ids\"][0, :12]}')\n",
    "print(f'Input Mask : {text_preprocessed[\"input_mask\"][0, :12]}')\n",
    "print(f'Type Ids   : {text_preprocessed[\"input_type_ids\"][0, :12]}')\n",
    "print(text_preprocessed.keys())"
   ]
  },
  {
   "cell_type": "code",
   "execution_count": 14,
   "id": "f0a7ce84",
   "metadata": {
    "executionInfo": {
     "elapsed": 6105,
     "status": "ok",
     "timestamp": 1680455427897,
     "user": {
      "displayName": "antonio chedid",
      "userId": "10125568832922905654"
     },
     "user_tz": -180
    },
    "id": "f0a7ce84"
   },
   "outputs": [],
   "source": [
    "bert_model = hub.KerasLayer(tfhub_handle_encoder)"
   ]
  },
  {
   "cell_type": "code",
   "execution_count": 15,
   "id": "cab7bb84",
   "metadata": {
    "colab": {
     "base_uri": "https://localhost:8080/"
    },
    "executionInfo": {
     "elapsed": 3844,
     "status": "ok",
     "timestamp": 1680455431730,
     "user": {
      "displayName": "antonio chedid",
      "userId": "10125568832922905654"
     },
     "user_tz": -180
    },
    "id": "cab7bb84",
    "outputId": "1a0a9174-9f96-49ad-925a-0417513cd80b"
   },
   "outputs": [
    {
     "name": "stdout",
     "output_type": "stream",
     "text": [
      "Loaded BERT: https://tfhub.dev/tensorflow/small_bert/bert_en_uncased_L-2_H-128_A-2/1\n",
      "Pooled Outputs Shape:(1, 128)\n",
      "Pooled Outputs Values:[-0.99994576  0.13200432 -0.99836767  0.92420113 -0.99850494  0.1071409\n",
      " -0.9975734   0.90757596  0.25709748 -0.06703133 -0.62302375 -0.15347935]\n",
      "Sequence Outputs Shape:(1, 128, 128)\n",
      "Sequence Outputs Values:[[-1.262577   -0.1814275  -2.5982254  ...  0.02485755 -1.3194151\n",
      "  -0.01462612]\n",
      " [-1.7439324   0.44665265  0.32360846 ... -1.3150918  -1.5200697\n",
      "   0.03203887]\n",
      " [-1.9942138  -0.50786835  0.02103075 ... -1.6817752  -1.9984187\n",
      "   1.1847016 ]\n",
      " ...\n",
      " [-1.3837103  -0.14182891  0.5151545  ... -1.1171986  -1.2444799\n",
      "   1.2651173 ]\n",
      " [-1.0797071  -0.56378454  0.3453897  ... -1.2024617  -1.4574677\n",
      "   0.84873456]\n",
      " [-0.63755786 -0.441211    0.39533305 ... -1.2652495  -1.9392105\n",
      "   1.1110493 ]]\n"
     ]
    }
   ],
   "source": [
    "bert_results = bert_model(text_preprocessed)\n",
    "\n",
    "print(f'Loaded BERT: {tfhub_handle_encoder}')\n",
    "print(f'Pooled Outputs Shape:{bert_results[\"pooled_output\"].shape}')\n",
    "print(f'Pooled Outputs Values:{bert_results[\"pooled_output\"][0, :12]}')\n",
    "print(f'Sequence Outputs Shape:{bert_results[\"sequence_output\"].shape}')\n",
    "print(f'Sequence Outputs Values:{bert_results[\"sequence_output\"][0, :12]}')"
   ]
  },
  {
   "cell_type": "code",
   "execution_count": 16,
   "id": "b417df3d",
   "metadata": {
    "executionInfo": {
     "elapsed": 5,
     "status": "ok",
     "timestamp": 1680455431733,
     "user": {
      "displayName": "antonio chedid",
      "userId": "10125568832922905654"
     },
     "user_tz": -180
    },
    "id": "b417df3d"
   },
   "outputs": [],
   "source": [
    "def build_classifier_model():\n",
    "  text_input = tf.keras.layers.Input(shape=(), dtype=tf.string, name='text')\n",
    "  preprocessing_layer = hub.KerasLayer(tfhub_handle_preprocess, name='preprocessing')\n",
    "  encoder_inputs = preprocessing_layer(text_input)\n",
    "  encoder = hub.KerasLayer(tfhub_handle_encoder, trainable=True, name='BERT_encoder')\n",
    "  outputs = encoder(encoder_inputs)\n",
    "  net = outputs['pooled_output']\n",
    "  net = tf.keras.layers.Dropout(0.1)(net)\n",
    "  net = tf.keras.layers.Dense(1, activation=None, name='classifier')(net)\n",
    "  return tf.keras.Model(text_input, net)"
   ]
  },
  {
   "cell_type": "code",
   "execution_count": 17,
   "id": "fa1bd27f",
   "metadata": {
    "colab": {
     "base_uri": "https://localhost:8080/"
    },
    "executionInfo": {
     "elapsed": 7203,
     "status": "ok",
     "timestamp": 1680455438931,
     "user": {
      "displayName": "antonio chedid",
      "userId": "10125568832922905654"
     },
     "user_tz": -180
    },
    "id": "fa1bd27f",
    "outputId": "cab1ddd3-c95b-4fce-ed34-7f04f2b54029"
   },
   "outputs": [
    {
     "name": "stderr",
     "output_type": "stream",
     "text": [
      "WARNING:tensorflow:From /usr/local/lib/python3.9/dist-packages/tensorflow/python/autograph/pyct/static_analysis/liveness.py:83: Analyzer.lamba_check (from tensorflow.python.autograph.pyct.static_analysis.liveness) is deprecated and will be removed after 2023-09-23.\n",
      "Instructions for updating:\n",
      "Lambda fuctions will be no more assumed to be used in the statement where they are used, or at least in the same block. https://github.com/tensorflow/tensorflow/issues/56089\n"
     ]
    },
    {
     "name": "stdout",
     "output_type": "stream",
     "text": [
      "tf.Tensor([[0.5358093]], shape=(1, 1), dtype=float32)\n"
     ]
    }
   ],
   "source": [
    "classifier_model = build_classifier_model()\n",
    "bert_raw_result = classifier_model(tf.constant(text_test))\n",
    "print(tf.sigmoid(bert_raw_result))"
   ]
  },
  {
   "cell_type": "code",
   "execution_count": 18,
   "id": "462a880d",
   "metadata": {
    "colab": {
     "base_uri": "https://localhost:8080/",
     "height": 466
    },
    "executionInfo": {
     "elapsed": 618,
     "status": "ok",
     "timestamp": 1680455439539,
     "user": {
      "displayName": "antonio chedid",
      "userId": "10125568832922905654"
     },
     "user_tz": -180
    },
    "id": "462a880d",
    "outputId": "e46239fc-6f79-43af-b054-793651c853eb"
   },
   "outputs": [
    {
     "data": {
      "image/png": "[encoded data removed]",
      "text/plain": [
       "<IPython.core.display.Image object>"
      ]
     },
     "execution_count": 18,
     "metadata": {},
     "output_type": "execute_result"
    }
   ],
   "source": [
    "tf.keras.utils.plot_model(classifier_model)"
   ]
  },
  {
   "cell_type": "code",
   "execution_count": 19,
   "id": "6215a950",
   "metadata": {
    "executionInfo": {
     "elapsed": 5,
     "status": "ok",
     "timestamp": 1680455439539,
     "user": {
      "displayName": "antonio chedid",
      "userId": "10125568832922905654"
     },
     "user_tz": -180
    },
    "id": "6215a950"
   },
   "outputs": [],
   "source": [
    "loss = tf.keras.losses.BinaryCrossentropy(from_logits=True)\n",
    "metrics = tf.metrics.BinaryAccuracy()"
   ]
  },
  {
   "cell_type": "code",
   "execution_count": 20,
   "id": "fd904b94",
   "metadata": {
    "executionInfo": {
     "elapsed": 4,
     "status": "ok",
     "timestamp": 1680455439539,
     "user": {
      "displayName": "antonio chedid",
      "userId": "10125568832922905654"
     },
     "user_tz": -180
    },
    "id": "fd904b94"
   },
   "outputs": [],
   "source": [
    "epochs = 5\n",
    "steps_per_epoch = tf.data.experimental.cardinality(train_dataset).numpy()\n",
    "num_train_steps = steps_per_epoch * epochs\n",
    "num_warmup_steps = int(0.1 * num_train_steps)\n",
    "\n",
    "init_lr = 3e-5\n",
    "optimizer = optimization.create_optimizer(init_lr=init_lr, num_train_steps=num_train_steps, num_warmup_steps=num_warmup_steps, optimizer_type='adamw')"
   ]
  },
  {
   "cell_type": "code",
   "execution_count": 21,
   "id": "3c434f59",
   "metadata": {
    "executionInfo": {
     "elapsed": 756,
     "status": "ok",
     "timestamp": 1680455442995,
     "user": {
      "displayName": "antonio chedid",
      "userId": "10125568832922905654"
     },
     "user_tz": -180
    },
    "id": "3c434f59"
   },
   "outputs": [],
   "source": [
    "classifier_model.compile(optimizer=optimizer, loss=loss, metrics=metrics)"
   ]
  },
  {
   "cell_type": "code",
   "execution_count": 22,
   "id": "3120c64d",
   "metadata": {
    "colab": {
     "base_uri": "https://localhost:8080/"
    },
    "executionInfo": {
     "elapsed": 1434659,
     "status": "ok",
     "timestamp": 1680456878162,
     "user": {
      "displayName": "antonio chedid",
      "userId": "10125568832922905654"
     },
     "user_tz": -180
    },
    "id": "3120c64d",
    "outputId": "b70ae963-fb84-46a6-cb04-069eaac2a393"
   },
   "outputs": [
    {
     "name": "stdout",
     "output_type": "stream",
     "text": [
      "Training model with https://tfhub.dev/tensorflow/small_bert/bert_en_uncased_L-2_H-128_A-2/1\n",
      "Epoch 1/5\n",
      "2429/2429 [==============================] - 303s 123ms/step - loss: 0.3193 - binary_accuracy: 0.8533 - val_loss: 0.1771 - val_binary_accuracy: 0.9359\n",
      "Epoch 2/5\n",
      "2429/2429 [==============================] - 293s 121ms/step - loss: 0.1858 - binary_accuracy: 0.9284 - val_loss: 0.1473 - val_binary_accuracy: 0.9448\n",
      "Epoch 3/5\n",
      "2429/2429 [==============================] - 273s 112ms/step - loss: 0.1674 - binary_accuracy: 0.9358 - val_loss: 0.1428 - val_binary_accuracy: 0.9464\n",
      "Epoch 4/5\n",
      "2429/2429 [==============================] - 271s 112ms/step - loss: 0.1562 - binary_accuracy: 0.9405 - val_loss: 0.1349 - val_binary_accuracy: 0.9513\n",
      "Epoch 5/5\n",
      "2429/2429 [==============================] - 269s 111ms/step - loss: 0.1501 - binary_accuracy: 0.9433 - val_loss: 0.1322 - val_binary_accuracy: 0.9494\n"
     ]
    }
   ],
   "source": [
    "print(f'Training model with {tfhub_handle_encoder}')\n",
    "history = classifier_model.fit(x=train_dataset,\n",
    "                               validation_data=val_dataset,\n",
    "                               epochs=epochs)\n"
   ]
  },
  {
   "cell_type": "code",
   "execution_count": 25,
   "id": "47f8fb5b",
   "metadata": {
    "executionInfo": {
     "elapsed": 521,
     "status": "ok",
     "timestamp": 1680458167927,
     "user": {
      "displayName": "antonio chedid",
      "userId": "10125568832922905654"
     },
     "user_tz": -180
    },
    "id": "47f8fb5b"
   },
   "outputs": [],
   "source": [
    "dataset_name = 'compliment2'\n",
    "saved_model_path = '../models/{}_bert'.format(dataset_name.replace('/', '_'))"
   ]
  },
  {
   "cell_type": "code",
   "execution_count": 41,
   "id": "3482c400",
   "metadata": {
    "executionInfo": {
     "elapsed": 756,
     "status": "ok",
     "timestamp": 1680460054039,
     "user": {
      "displayName": "antonio chedid",
      "userId": "10125568832922905654"
     },
     "user_tz": -180
    },
    "id": "3482c400"
   },
   "outputs": [],
   "source": [
    "classifier_model.save(\"../models/file.h5\", save_format='h5')"
   ]
  },
  {
   "cell_type": "markdown",
   "id": "c9b84c05",
   "metadata": {
    "id": "c9b84c05"
   },
   "source": [
    "# Evaluation"
   ]
  },
  {
   "cell_type": "markdown",
   "id": "a1c0aa73",
   "metadata": {
    "id": "a1c0aa73"
   },
   "source": [
    "Now, let's look at the performance of the BERT model:"
   ]
  },
  {
   "cell_type": "code",
   "execution_count": 24,
   "id": "cd7bb2eb",
   "metadata": {
    "colab": {
     "base_uri": "https://localhost:8080/",
     "height": 454
    },
    "executionInfo": {
     "elapsed": 1467,
     "status": "ok",
     "timestamp": 1680458027316,
     "user": {
      "displayName": "antonio chedid",
      "userId": "10125568832922905654"
     },
     "user_tz": -180
    },
    "id": "cd7bb2eb",
    "outputId": "096e7eb9-1975-482c-8159-c1b0bce253ef"
   },
   "outputs": [
    {
     "name": "stdout",
     "output_type": "stream",
     "text": [
      "dict_keys(['loss', 'binary_accuracy', 'val_loss', 'val_binary_accuracy'])\n"
     ]
    },
    {
     "data": {
      "text/plain": [
       "<matplotlib.legend.Legend at 0x7fd9c4842070>"
      ]
     },
     "execution_count": 24,
     "metadata": {},
     "output_type": "execute_result"
    },
    {
     "data": {
      "image/png": "[encoded data removed]",
      "text/plain": [
       "<Figure size 1000x600 with 2 Axes>"
      ]
     },
     "metadata": {},
     "output_type": "display_data"
    }
   ],
   "source": [
    "history_dict = history.history\n",
    "print(history_dict.keys())\n",
    "\n",
    "acc = history_dict['binary_accuracy']\n",
    "val_acc = history_dict['val_binary_accuracy']\n",
    "loss = history_dict['loss']\n",
    "val_loss = history_dict['val_loss']\n",
    "\n",
    "epochs = range(1, len(acc) + 1)\n",
    "fig = plt.figure(figsize=(10, 6))\n",
    "fig.tight_layout()\n",
    "\n",
    "plt.subplot(2, 1, 1)\n",
    "# r is for \"solid red line\"\n",
    "plt.plot(epochs, loss, 'r', label='Training loss')\n",
    "# b is for \"solid blue line\"\n",
    "plt.plot(epochs, val_loss, 'b', label='Validation loss')\n",
    "plt.title('Training and validation loss')\n",
    "# plt.xlabel('Epochs')\n",
    "plt.ylabel('Loss')\n",
    "plt.legend()\n",
    "\n",
    "plt.subplot(2, 1, 2)\n",
    "plt.plot(epochs, acc, 'r', label='Training acc')\n",
    "plt.plot(epochs, val_acc, 'b', label='Validation acc')\n",
    "plt.title('Training and validation accuracy')\n",
    "plt.xlabel('Epochs')\n",
    "plt.ylabel('Accuracy')\n",
    "plt.legend(loc='lower right')"
   ]
  },
  {
   "cell_type": "markdown",
   "id": "54edc1ce",
   "metadata": {},
   "source": [
    "As for the testing accuracy:"
   ]
  },
  {
   "cell_type": "code",
   "execution_count": 23,
   "id": "c578b9f8",
   "metadata": {
    "colab": {
     "base_uri": "https://localhost:8080/"
    },
    "executionInfo": {
     "elapsed": 62940,
     "status": "ok",
     "timestamp": 1680457094498,
     "user": {
      "displayName": "antonio chedid",
      "userId": "10125568832922905654"
     },
     "user_tz": -180
    },
    "id": "c578b9f8",
    "outputId": "5a36f33b-6a7f-4d18-d1d6-2d1017ab9c7e"
   },
   "outputs": [
    {
     "name": "stdout",
     "output_type": "stream",
     "text": [
      "694/694 [==============================] - 63s 90ms/step - loss: 0.1351 - binary_accuracy: 0.9512\n",
      "Loss: 0.13505780696868896\n",
      "Accuracy: 0.9511755704879761\n"
     ]
    }
   ],
   "source": [
    "loss, accuracy = classifier_model.evaluate(test_dataset)\n",
    "\n",
    "print(f'Loss: {loss}')\n",
    "print(f'Accuracy: {accuracy}')\n"
   ]
  },
  {
   "cell_type": "markdown",
   "id": "85520468",
   "metadata": {},
   "source": [
    "By looking at the results, we can see that the validation accuracy is consistently higher than the training accuracy. Furthermore, the training accuracy is quite high; this likely indicates that the model is overfitting.\n",
    "\n",
    "However, by looking at the testing accuracy, we see that the model performs quite well actually with an accuracy of 95%.\n",
    "\n",
    "As such, this likely indicates that the issue is with the dataset itself: as discussed earlier, the data first of all is biased, and second of all does nto contain much variability in terms of compliments/insults. As such, while the model might be very good at generalizing on the dataset itself (as seen by the high testing accuracy), the dataset is not quite representative of what could happen in the real world.\n",
    "\n",
    "Below, we try some custom test inputs that might occur in our application:"
   ]
  },
  {
   "cell_type": "code",
   "execution_count": 2,
   "id": "_ag3GpWTIXXt",
   "metadata": {
    "colab": {
     "base_uri": "https://localhost:8080/"
    },
    "executionInfo": {
     "elapsed": 14003,
     "status": "ok",
     "timestamp": 1680458505614,
     "user": {
      "displayName": "antonio chedid",
      "userId": "10125568832922905654"
     },
     "user_tz": -180
    },
    "id": "_ag3GpWTIXXt",
    "outputId": "a5d76a9b-5134-4d00-c436-825bc215710e"
   },
   "outputs": [
    {
     "name": "stdout",
     "output_type": "stream",
     "text": [
      "WARNING:tensorflow:No training configuration found in save file, so the model was *not* compiled. Compile it manually.\n"
     ]
    }
   ],
   "source": [
    "bert_model = tf.keras.models.load_model('../models/compliment3_bert/')"
   ]
  },
  {
   "cell_type": "code",
   "execution_count": 5,
   "id": "9a08816d",
   "metadata": {
    "colab": {
     "base_uri": "https://localhost:8080/"
    },
    "executionInfo": {
     "elapsed": 5,
     "status": "ok",
     "timestamp": 1680459373532,
     "user": {
      "displayName": "antonio chedid",
      "userId": "10125568832922905654"
     },
     "user_tz": -180
    },
    "id": "9a08816d",
    "outputId": "a0c64ad4-4a4f-4754-eb00-8e2729f433d9"
   },
   "outputs": [
    {
     "name": "stdout",
     "output_type": "stream",
     "text": [
      "tf.Tensor(\n",
      "[[0.00942584]\n",
      " [0.42856747]], shape=(2, 1), dtype=float32)\n"
     ]
    }
   ],
   "source": [
    "print(tf.sigmoid(bert_model(tf.constant([\"You look like shit\", \"I didn't enjoy this at all\"]))))"
   ]
  },
  {
   "cell_type": "markdown",
   "id": "c235518a",
   "metadata": {
    "id": "c235518a"
   },
   "source": [
    "# Deployment"
   ]
  },
  {
   "cell_type": "markdown",
   "id": "5313da15",
   "metadata": {},
   "source": [
    "Next, we will deploy the BERT model on an EC2 instance. The corresponding code is in the *src* folder of the project."
   ]
  },
  {
   "cell_type": "markdown",
   "id": "c3334cf3",
   "metadata": {
    "id": "c3334cf3"
   },
   "source": [
    "# References"
   ]
  },
  {
   "cell_type": "markdown",
   "id": "6df51e2a",
   "metadata": {
    "id": "6df51e2a"
   },
   "source": [
    "https://github.com/ravsodhi/jibes-and-delights\n",
    "\n",
    "https://aclanthology.org/2021.woah-1.14/\n",
    "\n",
    "https://towardsdatascience.com/the-kernel-trick-c98cdbcaeb3f\n",
    "\n",
    "https://www.ibm.com/docs/en/spss-modeler/saas?topic=models-how-svm-works\n",
    "\n",
    "https://monkeylearn.com/blog/introduction-to-support-vector-machines-svm/"
   ]
  }
 ],
 "metadata": {
  "accelerator": "GPU",
  "colab": {
   "provenance": []
  },
  "gpuClass": "standard",
  "kernelspec": {
   "display_name": "Python 3 (ipykernel)",
   "language": "python",
   "name": "python3"
  },
  "language_info": {
   "codemirror_mode": {
    "name": "ipython",
    "version": 3
   },
   "file_extension": ".py",
   "mimetype": "text/x-python",
   "name": "python",
   "nbconvert_exporter": "python",
   "pygments_lexer": "ipython3",
   "version": "3.10.4"
  }
 },
 "nbformat": 4,
 "nbformat_minor": 5
}
